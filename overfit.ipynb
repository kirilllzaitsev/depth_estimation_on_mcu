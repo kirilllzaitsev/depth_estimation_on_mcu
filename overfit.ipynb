{
 "cells": [
  {
   "cell_type": "code",
   "execution_count": 2,
   "metadata": {},
   "outputs": [
    {
     "name": "stdout",
     "output_type": "stream",
     "text": [
      "Shape of train dataset: (30, 28, 28, 1)\n",
      "Shape of train labels: (30,)\n",
      "Shape of test dataset: (30, 28, 28, 1)\n",
      "Shape of test labels: (30,)\n"
     ]
    }
   ],
   "source": [
    "import numpy as np\n",
    "import matplotlib.pyplot as plt\n",
    "import tensorflow as tf\n",
    "import tensorflow.keras as keras\n",
    "import os\n",
    "import logging\n",
    "import pathlib\n",
    "from data import (\n",
    "    train_images,\n",
    "    train_labels,\n",
    "    test_images,\n",
    "    test_labels\n",
    ")"
   ]
  },
  {
   "cell_type": "code",
   "execution_count": 3,
   "metadata": {},
   "outputs": [],
   "source": [
    "\n",
    "from mnist_utils import plot_samples\n",
    "from config import cfg\n",
    "from vanilla_model import fit as fit_vanilla\n",
    "from metrics import calc_metrics\n",
    "from converters import keras_to_tflite, dynamic_range_quantization, check_quantized_model, eight_bit_quantization\n",
    "from eval import eval_quantized_model\n",
    "from config import cfg\n",
    "from eval import run_tflite_model\n",
    "from c_utils import write_model_h\n",
    "from utils import save_test_data"
   ]
  },
  {
   "cell_type": "code",
   "execution_count": 4,
   "metadata": {},
   "outputs": [
    {
     "name": "stdout",
     "output_type": "stream",
     "text": [
      "Epoch 1/3\n",
      "1/1 [==============================] - 2s 2s/step - loss: 43.3528 - mean_squared_error: 43.3528 - val_loss: 0.2489 - val_mean_squared_error: 0.2489\n",
      "Epoch 2/3\n",
      "1/1 [==============================] - 0s 24ms/step - loss: 22.5404 - mean_squared_error: 22.5404 - val_loss: 0.2011 - val_mean_squared_error: 0.2011\n",
      "Epoch 3/3\n",
      "1/1 [==============================] - 0s 23ms/step - loss: 13.3993 - mean_squared_error: 13.3993 - val_loss: 0.1723 - val_mean_squared_error: 0.1723\n",
      "Epoch 1/3\n",
      "1/1 [==============================] - 0s 74ms/step - loss: 9.6625 - mean_squared_error: 9.6625 - val_loss: 0.1557 - val_mean_squared_error: 0.1557\n",
      "Epoch 2/3\n",
      "1/1 [==============================] - 0s 32ms/step - loss: 7.4611 - mean_squared_error: 7.4611 - val_loss: 0.1464 - val_mean_squared_error: 0.1464\n",
      "Epoch 3/3\n",
      "1/1 [==============================] - 0s 29ms/step - loss: 5.7109 - mean_squared_error: 5.7109 - val_loss: 0.1415 - val_mean_squared_error: 0.1415\n"
     ]
    }
   ],
   "source": [
    "fp_model, history = fit_vanilla(cfg.epochs, cfg.img_size)"
   ]
  }
 ],
 "metadata": {
  "kernelspec": {
   "display_name": "sc",
   "language": "python",
   "name": "python3"
  },
  "language_info": {
   "codemirror_mode": {
    "name": "ipython",
    "version": 3
   },
   "file_extension": ".py",
   "mimetype": "text/x-python",
   "name": "python",
   "nbconvert_exporter": "python",
   "pygments_lexer": "ipython3",
   "version": "3.9.16"
  },
  "orig_nbformat": 4
 },
 "nbformat": 4,
 "nbformat_minor": 2
}

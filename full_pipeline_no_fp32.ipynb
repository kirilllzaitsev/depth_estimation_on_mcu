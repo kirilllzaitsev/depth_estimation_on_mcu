{
 "cells": [
  {
   "cell_type": "code",
   "execution_count": 1,
   "metadata": {},
   "outputs": [],
   "source": [
    "import numpy as np\n",
    "import matplotlib.pyplot as plt\n",
    "import tensorflow as tf\n",
    "import tensorflow.keras as keras\n",
    "from utils import set_seed\n",
    "from plot_utils import plot_eval_results\n",
    "\n",
    "set_seed()\n"
   ]
  },
  {
   "cell_type": "code",
   "execution_count": 2,
   "metadata": {},
   "outputs": [],
   "source": [
    "\n",
    "from mnist_utils import plot_samples\n",
    "from config import cfg\n",
    "from vanilla_model import fit as fit_vanilla\n",
    "from metrics import calc_metrics\n",
    "from converters import Converter\n",
    "from config import cfg\n",
    "from eval import run_tflite_model\n",
    "from c_utils import write_model_h\n",
    "from utils import save_test_data\n",
    "import plot_utils as pu\n",
    "from model import get_model\n",
    "from model import save_pruned_model\n",
    "from utils import get_gzipped_model_size"
   ]
  },
  {
   "cell_type": "code",
   "execution_count": 3,
   "metadata": {},
   "outputs": [
    {
     "name": "stdout",
     "output_type": "stream",
     "text": [
      "Dataset: NYU Depth V2\n",
      "# of train images: 50688\n",
      "Dataset: NYU Depth V2\n",
      "# of test images: 654\n",
      "Train size:  40551\n",
      "Val size:  10137\n",
      "Test size:  654\n"
     ]
    }
   ],
   "source": [
    "from nyuv2_torch_ds_adapter import get_tf_nyuv2_ds\n",
    "import argparse\n",
    "args = argparse.Namespace()\n",
    "args.truncate_testset = False\n",
    "# args.target_size = (64, 64)\n",
    "args.crop_size = (640, 480)\n",
    "# args.target_size = (64, 64)\n",
    "args.target_size = cfg.img_size\n",
    "args.out_fold_ratio = 1\n",
    "args.is_maxim = False\n",
    "cfg.do_overfit=False\n",
    "args.batch_size=cfg.batch_size*4\n",
    "\n",
    "ds_train, ds_val, ds_test = get_tf_nyuv2_ds(cfg.base_kitti_dataset_dir, args)\n",
    "# train_size=cfg.take_first_n\n",
    "# ds_train = ds_train.take(train_size)\n",
    "# val_size=cfg.take_first_n\n",
    "# ds_val = ds_val.take(val_size)\n",
    "# test_size=cfg.take_first_n\n",
    "# ds_test = ds_test.take(test_size)\n",
    "\n",
    "x_val= next(iter(ds_val))\n",
    "x_train= next(iter(ds_train))"
   ]
  },
  {
   "cell_type": "code",
   "execution_count": 4,
   "metadata": {},
   "outputs": [
    {
     "data": {
      "text/plain": [
       "(1.0, 0.0, 0.254, 0.018)"
      ]
     },
     "execution_count": 4,
     "metadata": {},
     "output_type": "execute_result"
    }
   ],
   "source": [
    "x_train[0].numpy().max(), x_train[0].numpy().min(), x_train[1].numpy().max(), x_train[1].numpy().min(), "
   ]
  },
  {
   "cell_type": "code",
   "execution_count": 5,
   "metadata": {},
   "outputs": [
    {
     "data": {
      "text/plain": [
       "Text(0.5, 1.0, 'Depth')"
      ]
     },
     "execution_count": 5,
     "metadata": {},
     "output_type": "execute_result"
    },
    {
     "data": {
      "image/png": "[encoded data removed]",
      "text/plain": [
       "<Figure size 1000x500 with 2 Axes>"
      ]
     },
     "metadata": {},
     "output_type": "display_data"
    }
   ],
   "source": [
    "fig, axs = plt.subplots(1, 2, figsize=(10, 5))\n",
    "axs[0].imshow(x_train[0][0].numpy())\n",
    "axs[1].imshow(x_train[1][0].numpy())\n",
    "axs[0].set_title('Image')\n",
    "axs[1].set_title('Depth')"
   ]
  },
  {
   "cell_type": "code",
   "execution_count": 6,
   "metadata": {},
   "outputs": [],
   "source": [
    "import os\n",
    "converter = Converter(cfg)\n",
    "\n",
    "# cfg.save_model_dir = \"/tmp/models\"\n",
    "# cfg.save_cfiles_dir = \"/tmp/cfiles\"\n",
    "# cfg.save_test_data_dir = \"/tmp/test_data\"\n",
    "# cfg.do_overfit = True\n",
    "\n",
    "os.makedirs(cfg.save_model_dir, exist_ok=True)\n",
    "os.makedirs(cfg.save_cfiles_dir, exist_ok=True)\n",
    "os.makedirs(cfg.save_test_data_dir, exist_ok=True)"
   ]
  },
  {
   "cell_type": "code",
   "execution_count": 7,
   "metadata": {},
   "outputs": [
    {
     "name": "stdout",
     "output_type": "stream",
     "text": [
      "Test image data location:  /media/master/wext/msc_studies/second_semester/microcontrollers/project/stm32/code/test_data/x_test_depth.npy\n",
      "Test labels location:  /media/master/wext/msc_studies/second_semester/microcontrollers/project/stm32/code/test_data/y_test_depth.npy\n"
     ]
    }
   ],
   "source": [
    "model_names = [\n",
    "    \"depth_model_quant8_dynR\",\n",
    "    \"depth_full_quant\",\n",
    "    \"depth_qat_int8\",\n",
    "    \"pruned_model\",\n",
    "    \"pruned_model_unstructured\",\n",
    "    \"pruned_model_unstructured_dynamic\",\n",
    "    \"pruned_qat_model\",\n",
    "    \"depth_model_fp32\",\n",
    "]\n",
    "cfiles = {\n",
    "    \"depth_model_quant8_dynR\": \"depth_model_quant8_dynR\",\n",
    "    \"depth_full_quant\": \"q8depth\",\n",
    "    \"depth_qat_int8\": \"qat8depth\",\n",
    "    \"pruned_model\": \"pruned\",\n",
    "    \"pruned_model_unstructured\": \"pruned_unstructured\",\n",
    "    \"pruned_model_unstructured_dynamic\": \"pruned_unstructured_dynamic\",\n",
    "    \"pruned_qat_model\": \"pruned_unstructured_qat_model\",\n",
    "    \"depth_model_fp32\": \"depth_model_fp32\",\n",
    "}\n",
    "save_test_data(cfg.save_test_data_dir, x_train[0], x_train[1])"
   ]
  },
  {
   "cell_type": "code",
   "execution_count": 8,
   "metadata": {
    "notebookRunGroups": {
     "groupValue": "1"
    }
   },
   "outputs": [],
   "source": [
    "import pickle\n",
    "from eval import eval_model\n",
    "from loss import calculate_loss\n",
    "from model import get_model\n",
    "import tensorflow_model_optimization as tfmot\n",
    "\n",
    "\n",
    "def fit_eval(model, model_name, do_save_model=True, epochs=cfg.epochs, do_savefig=True):\n",
    "    keras.backend.clear_session()\n",
    "    # loss = tf.keras.losses.MeanSquaredError()\n",
    "    metrics = tf.keras.metrics.Mean(name=\"loss\")\n",
    "\n",
    "    # Define a custom metric\n",
    "    def custom_metric(y_true, y_pred, sample_weight=None):\n",
    "        metric_value = calculate_loss(y_true, y_pred)\n",
    "        metrics.update_state(metric_value, sample_weight=sample_weight)\n",
    "        return metric_value\n",
    "\n",
    "    optimizer = tf.keras.optimizers.Adam(learning_rate=0.0005)\n",
    "\n",
    "    model.compile(optimizer=optimizer, loss=\"mae\", metrics=[custom_metric])\n",
    "\n",
    "    reduce_lr = tf.keras.callbacks.ReduceLROnPlateau(\n",
    "        monitor=\"loss\", factor=0.2, min_lr=1e-7, patience=5, min_delta=1e-2, verbose=1\n",
    "    )\n",
    "    callbacks = [reduce_lr]\n",
    "    if \"pruned\" in model_name:\n",
    "        callbacks.append(tfmot.sparsity.keras.UpdatePruningStep())\n",
    "    if not cfg.do_overfit:\n",
    "        tbCallBack = tf.keras.callbacks.TensorBoard(\n",
    "            log_dir=f\"{cfg.logdir}/tb_logs\",\n",
    "            histogram_freq=0,\n",
    "            write_graph=False,\n",
    "            write_images=False,\n",
    "        )\n",
    "        es = tf.keras.callbacks.EarlyStopping(\n",
    "            patience=cfg.es_patience, restore_best_weights=False,\n",
    "            min_delta=5e-3, \n",
    "            monitor=\"custom_metric\",\n",
    "        )\n",
    "        model_checkpoint_callback = tf.keras.callbacks.ModelCheckpoint(\n",
    "            filepath=cfg.logdir + f\"/{model_name}\",\n",
    "            save_weights_only=True,\n",
    "            monitor=\"custom_metric\",\n",
    "            mode=\"min\",\n",
    "            # save_best_only=True,\n",
    "        )\n",
    "        # callbacks.append(es)\n",
    "        callbacks.append(model_checkpoint_callback)\n",
    "        callbacks.append(tbCallBack)\n",
    "    history = model.fit(\n",
    "        x=ds_train,\n",
    "        epochs=epochs,\n",
    "        validation_data=ds_val,\n",
    "        callbacks=callbacks,\n",
    "        verbose=1,\n",
    "    )\n",
    "    # pickle history\n",
    "    with open(f\"{cfg.save_model_dir}/{model_name}_history.pkl\", \"wb\") as f:\n",
    "        pickle.dump(history.history, f)\n",
    "\n",
    "    # plot history\n",
    "    pu.plot_history(history, f\"{cfg.save_model_dir}/{model_name}_history.png\")\n",
    "    if not do_savefig:\n",
    "        plt.show()\n",
    "    tflite_path=None\n",
    "    model_tflite=None\n",
    "    if do_save_model:\n",
    "        model.save(f\"{cfg.save_model_dir}/{model_name}.h5\")\n",
    "        model_tflite, tflite_path = converter.keras_to_tflite(model, model_name, do_return_path=True)\n",
    "    # tflite_path='/tmp/models/depth_model_fp32.tflite'\n",
    "    metrics = eval_model(\n",
    "        model=model,\n",
    "        test_ds=ds_val,\n",
    "        tflite_path=tflite_path,\n",
    "        model_name=model_name,\n",
    "        metrics_file_path=f\"{cfg.save_model_dir}/metrics.json\",\n",
    "    )\n",
    "    return model_tflite, metrics, history"
   ]
  },
  {
   "cell_type": "code",
   "execution_count": 9,
   "metadata": {},
   "outputs": [],
   "source": [
    "# load history\n",
    "# with open(f\"{cfg.save_model_dir}/{model_names[7]}_history.pkl\", \"rb\") as f:\n",
    "#     history2 = pickle.load(f)\n",
    "# pu.plot_history(history2, f\"{cfg.save_model_dir}/{model_names[7]}_history.png\")"
   ]
  },
  {
   "cell_type": "code",
   "execution_count": 10,
   "metadata": {},
   "outputs": [
    {
     "name": "stdout",
     "output_type": "stream",
     "text": [
      "WARNING:tensorflow:From /home/master/.conda/envs/sc/lib/python3.9/site-packages/tensorflow/python/autograph/pyct/static_analysis/liveness.py:83: Analyzer.lamba_check (from tensorflow.python.autograph.pyct.static_analysis.liveness) is deprecated and will be removed after 2023-09-23.\n",
      "Instructions for updating:\n",
      "Lambda fuctions will be no more assumed to be used in the statement where they are used, or at least in the same block. https://github.com/tensorflow/tensorflow/issues/56089\n",
      "Epoch 1/20\n",
      "24/24 [==============================] - 168s 7s/step - loss: 0.2987 - custom_metric: 0.7402 - val_loss: 0.2638 - val_custom_metric: 0.5677 - lr: 5.0000e-04\n",
      "Epoch 2/20\n",
      "24/24 [==============================] - 24s 1s/step - loss: 0.0780 - custom_metric: 0.6072 - val_loss: 0.1791 - val_custom_metric: 0.4883 - lr: 5.0000e-04\n",
      "Epoch 3/20\n",
      "24/24 [==============================] - 25s 1s/step - loss: 0.0615 - custom_metric: 0.5666 - val_loss: 0.1577 - val_custom_metric: 0.4601 - lr: 5.0000e-04\n",
      "Epoch 4/20\n",
      "24/24 [==============================] - 25s 1s/step - loss: 0.0569 - custom_metric: 0.4963 - val_loss: 0.1390 - val_custom_metric: 0.4170 - lr: 5.0000e-04\n",
      "Epoch 5/20\n",
      "24/24 [==============================] - 34s 1s/step - loss: 0.0518 - custom_metric: 0.4246 - val_loss: 0.1231 - val_custom_metric: 0.3757 - lr: 5.0000e-04\n",
      "Epoch 6/20\n",
      "24/24 [==============================] - 25s 1s/step - loss: 0.0458 - custom_metric: 0.3470 - val_loss: 0.1071 - val_custom_metric: 0.3378 - lr: 5.0000e-04\n",
      "Epoch 7/20\n",
      "24/24 [==============================] - 25s 1s/step - loss: 0.0392 - custom_metric: 0.2707 - val_loss: 0.0794 - val_custom_metric: 0.2688 - lr: 5.0000e-04\n",
      "Epoch 8/20\n",
      "24/24 [==============================] - 26s 1s/step - loss: 0.0344 - custom_metric: 0.2181 - val_loss: 0.0618 - val_custom_metric: 0.2193 - lr: 5.0000e-04\n",
      "Epoch 9/20\n",
      "24/24 [==============================] - 26s 1s/step - loss: 0.0317 - custom_metric: 0.1875 - val_loss: 0.0521 - val_custom_metric: 0.1914 - lr: 5.0000e-04\n",
      "Epoch 10/20\n",
      "24/24 [==============================] - 26s 1s/step - loss: 0.0299 - custom_metric: 0.1679 - val_loss: 0.0452 - val_custom_metric: 0.1699 - lr: 5.0000e-04\n",
      "Epoch 11/20\n",
      "24/24 [==============================] - 26s 1s/step - loss: 0.0286 - custom_metric: 0.1541 - val_loss: 0.0406 - val_custom_metric: 0.1553 - lr: 5.0000e-04\n",
      "Epoch 12/20\n",
      "24/24 [==============================] - 25s 1s/step - loss: 0.0277 - custom_metric: 0.1440 - val_loss: 0.0369 - val_custom_metric: 0.1432 - lr: 5.0000e-04\n",
      "Epoch 13/20\n",
      "24/24 [==============================] - ETA: 0s - loss: 0.0270 - custom_metric: 0.1364\n",
      "Epoch 13: ReduceLROnPlateau reducing learning rate to 0.00010000000474974513.\n",
      "24/24 [==============================] - 25s 1s/step - loss: 0.0270 - custom_metric: 0.1364 - val_loss: 0.0340 - val_custom_metric: 0.1336 - lr: 5.0000e-04\n",
      "Epoch 14/20\n",
      "24/24 [==============================] - 26s 1s/step - loss: 0.0266 - custom_metric: 0.1321 - val_loss: 0.0324 - val_custom_metric: 0.1285 - lr: 1.0000e-04\n",
      "Epoch 15/20\n",
      "24/24 [==============================] - 25s 1s/step - loss: 0.0264 - custom_metric: 0.1305 - val_loss: 0.0304 - val_custom_metric: 0.1225 - lr: 1.0000e-04\n",
      "Epoch 16/20\n",
      "24/24 [==============================] - 26s 1s/step - loss: 0.0263 - custom_metric: 0.1295 - val_loss: 0.0291 - val_custom_metric: 0.1188 - lr: 1.0000e-04\n",
      "Epoch 17/20\n",
      "24/24 [==============================] - 26s 1s/step - loss: 0.0262 - custom_metric: 0.1284 - val_loss: 0.0283 - val_custom_metric: 0.1172 - lr: 1.0000e-04\n",
      "Epoch 18/20\n",
      "24/24 [==============================] - ETA: 0s - loss: 0.0261 - custom_metric: 0.1274\n",
      "Epoch 18: ReduceLROnPlateau reducing learning rate to 2.0000000949949027e-05.\n",
      "24/24 [==============================] - 27s 1s/step - loss: 0.0261 - custom_metric: 0.1274 - val_loss: 0.0279 - val_custom_metric: 0.1164 - lr: 1.0000e-04\n",
      "Epoch 19/20\n",
      "24/24 [==============================] - 26s 1s/step - loss: 0.0260 - custom_metric: 0.1261 - val_loss: 0.0275 - val_custom_metric: 0.1160 - lr: 2.0000e-05\n",
      "Epoch 20/20\n",
      "24/24 [==============================] - 26s 1s/step - loss: 0.0259 - custom_metric: 0.1262 - val_loss: 0.0273 - val_custom_metric: 0.1154 - lr: 2.0000e-05\n",
      "pruned_model model metrics:\n",
      "eval_loss: 0.027\n",
      "eval_metric: 0.115\n",
      "Saved metrics to /media/master/wext/msc_studies/second_semester/microcontrollers/project/stm32/code/models/metrics.json\n",
      "WARNING:tensorflow:Compiled the loaded model, but the compiled metrics have yet to be built. `model.compile_metrics` will be empty until you train or evaluate the model.\n",
      "Saved pruned Keras model to: /media/master/wext/msc_studies/second_semester/microcontrollers/project/stm32/code/models/pruned_model.h5\n"
     ]
    },
    {
     "name": "stderr",
     "output_type": "stream",
     "text": [
      "WARNING:absl:Found untraced functions such as _jit_compiled_convolution_op, _jit_compiled_convolution_op, _jit_compiled_convolution_op, _jit_compiled_convolution_op, _jit_compiled_convolution_op while saving (showing 5 of 17). These functions will not be directly callable after loading.\n"
     ]
    },
    {
     "name": "stdout",
     "output_type": "stream",
     "text": [
      "INFO:tensorflow:Assets written to: /tmp/tmp53k8t_oz/assets\n"
     ]
    },
    {
     "name": "stderr",
     "output_type": "stream",
     "text": [
      "INFO:tensorflow:Assets written to: /tmp/tmp53k8t_oz/assets\n"
     ]
    },
    {
     "name": "stdout",
     "output_type": "stream",
     "text": [
      "Model was saved at location: /media/master/wext/msc_studies/second_semester/microcontrollers/project/stm32/code/models/pruned_model.tflite\n",
      "HDF5 Model size: 431 KB\n",
      "TFLite Model size: 300 KB\n",
      "\n",
      "Reduction in file size by a factor of 1.434413\n"
     ]
    },
    {
     "data": {
      "image/png": "[encoded data removed]",
      "text/plain": [
       "<Figure size 1500x800 with 1 Axes>"
      ]
     },
     "metadata": {},
     "output_type": "display_data"
    }
   ],
   "source": [
    "model_name = model_names[3]\n",
    "pruned_model = get_model(\n",
    "    cfg.img_size,\n",
    "    cfg.num_classes,\n",
    "    in_channels=cfg.in_channels,\n",
    "    use_qat=False,\n",
    "    use_pruning=True,\n",
    "    use_pruning_struct=True,\n",
    ")\n",
    "fit_eval(pruned_model, model_name, do_save_model=False, epochs=20)\n",
    "pruned_model_for_export = save_pruned_model(\n",
    "    pruned_model, f\"{cfg.save_model_dir}/{model_name}.h5\"\n",
    ")\n",
    "pruned_tflite_model = converter.keras_to_tflite(pruned_model_for_export, model_name)\n",
    "write_model_h(cfiles[model_name], pruned_tflite_model, cfg.save_cfiles_dir)"
   ]
  },
  {
   "cell_type": "code",
   "execution_count": null,
   "metadata": {},
   "outputs": [],
   "source": [
    "raise"
   ]
  },
  {
   "cell_type": "code",
   "execution_count": 13,
   "metadata": {},
   "outputs": [
    {
     "name": "stdout",
     "output_type": "stream",
     "text": [
      "Epoch 1/50\n",
      "24/24 [==============================] - 29s 1s/step - loss: 0.1123 - custom_metric: 0.6555 - val_loss: 0.3319 - val_custom_metric: 0.6122 - lr: 5.0000e-04\n",
      "Epoch 2/50\n",
      "24/24 [==============================] - 24s 1s/step - loss: 0.0600 - custom_metric: 0.5638 - val_loss: 0.3048 - val_custom_metric: 0.6045 - lr: 5.0000e-04\n",
      "Epoch 3/50\n",
      "24/24 [==============================] - 24s 1s/step - loss: 0.0511 - custom_metric: 0.4268 - val_loss: 0.2727 - val_custom_metric: 0.5834 - lr: 5.0000e-04\n",
      "Epoch 4/50\n",
      "24/24 [==============================] - 24s 1s/step - loss: 0.0420 - custom_metric: 0.3105 - val_loss: 0.2279 - val_custom_metric: 0.5412 - lr: 5.0000e-04\n",
      "Epoch 5/50\n",
      "24/24 [==============================] - 24s 1s/step - loss: 0.0355 - custom_metric: 0.2331 - val_loss: 0.1731 - val_custom_metric: 0.4734 - lr: 5.0000e-04\n",
      "Epoch 6/50\n",
      "24/24 [==============================] - 24s 1s/step - loss: 0.0321 - custom_metric: 0.1931 - val_loss: 0.1255 - val_custom_metric: 0.3943 - lr: 5.0000e-04\n",
      "Epoch 7/50\n",
      "24/24 [==============================] - 24s 1s/step - loss: 0.0301 - custom_metric: 0.1701 - val_loss: 0.0920 - val_custom_metric: 0.3242 - lr: 5.0000e-04\n",
      "Epoch 8/50\n",
      "24/24 [==============================] - 24s 1s/step - loss: 0.0288 - custom_metric: 0.1554 - val_loss: 0.0701 - val_custom_metric: 0.2704 - lr: 5.0000e-04\n",
      "Epoch 9/50\n",
      "24/24 [==============================] - 24s 1s/step - loss: 0.0279 - custom_metric: 0.1451 - val_loss: 0.0568 - val_custom_metric: 0.2329 - lr: 5.0000e-04\n",
      "Epoch 10/50\n",
      "24/24 [==============================] - 24s 1s/step - loss: 0.0272 - custom_metric: 0.1374 - val_loss: 0.0488 - val_custom_metric: 0.2083 - lr: 5.0000e-04\n",
      "Epoch 11/50\n",
      "24/24 [==============================] - 24s 1s/step - loss: 0.0266 - custom_metric: 0.1315 - val_loss: 0.0436 - val_custom_metric: 0.1920 - lr: 5.0000e-04\n",
      "Epoch 12/50\n",
      "24/24 [==============================] - ETA: 0s - loss: 0.0262 - custom_metric: 0.1267\n",
      "Epoch 12: ReduceLROnPlateau reducing learning rate to 0.00010000000474974513.\n",
      "24/24 [==============================] - 23s 999ms/step - loss: 0.0262 - custom_metric: 0.1267 - val_loss: 0.0403 - val_custom_metric: 0.1818 - lr: 5.0000e-04\n",
      "Epoch 13/50\n",
      "24/24 [==============================] - 24s 1s/step - loss: 0.0258 - custom_metric: 0.1237 - val_loss: 0.0386 - val_custom_metric: 0.1769 - lr: 1.0000e-04\n",
      "Epoch 14/50\n",
      "24/24 [==============================] - 24s 1s/step - loss: 0.0257 - custom_metric: 0.1227 - val_loss: 0.0370 - val_custom_metric: 0.1727 - lr: 1.0000e-04\n",
      "Epoch 15/50\n",
      "24/24 [==============================] - 24s 1s/step - loss: 0.0256 - custom_metric: 0.1221 - val_loss: 0.0358 - val_custom_metric: 0.1696 - lr: 1.0000e-04\n",
      "Epoch 16/50\n",
      "24/24 [==============================] - 24s 1s/step - loss: 0.0256 - custom_metric: 0.1213 - val_loss: 0.0350 - val_custom_metric: 0.1676 - lr: 1.0000e-04\n",
      "Epoch 17/50\n",
      "24/24 [==============================] - ETA: 0s - loss: 0.0255 - custom_metric: 0.1206\n",
      "Epoch 17: ReduceLROnPlateau reducing learning rate to 2.0000000949949027e-05.\n",
      "24/24 [==============================] - 26s 1s/step - loss: 0.0255 - custom_metric: 0.1206 - val_loss: 0.0344 - val_custom_metric: 0.1656 - lr: 1.0000e-04\n",
      "Epoch 18/50\n",
      "24/24 [==============================] - 24s 1s/step - loss: 0.0254 - custom_metric: 0.1196 - val_loss: 0.0340 - val_custom_metric: 0.1636 - lr: 2.0000e-05\n",
      "Epoch 19/50\n",
      "24/24 [==============================] - 24s 1s/step - loss: 0.0254 - custom_metric: 0.1198 - val_loss: 0.0334 - val_custom_metric: 0.1593 - lr: 2.0000e-05\n",
      "Epoch 20/50\n",
      "24/24 [==============================] - 24s 1s/step - loss: 0.0254 - custom_metric: 0.1195 - val_loss: 0.0326 - val_custom_metric: 0.1536 - lr: 2.0000e-05\n",
      "pruned_model_unstructured model metrics:\n",
      "eval_loss: 0.033\n",
      "eval_metric: 0.154\n",
      "Saved metrics to /media/master/wext/msc_studies/second_semester/microcontrollers/project/stm32/code/models/metrics.json\n",
      "WARNING:tensorflow:Compiled the loaded model, but the compiled metrics have yet to be built. `model.compile_metrics` will be empty until you train or evaluate the model.\n"
     ]
    },
    {
     "name": "stderr",
     "output_type": "stream",
     "text": [
      "WARNING:tensorflow:Compiled the loaded model, but the compiled metrics have yet to be built. `model.compile_metrics` will be empty until you train or evaluate the model.\n"
     ]
    },
    {
     "name": "stdout",
     "output_type": "stream",
     "text": [
      "Saved pruned Keras model to: /media/master/wext/msc_studies/second_semester/microcontrollers/project/stm32/code/models/pruned_model_unstructured.h5\n"
     ]
    },
    {
     "name": "stderr",
     "output_type": "stream",
     "text": [
      "WARNING:absl:Found untraced functions such as _jit_compiled_convolution_op, _jit_compiled_convolution_op, _jit_compiled_convolution_op, _jit_compiled_convolution_op, _jit_compiled_convolution_op while saving (showing 5 of 17). These functions will not be directly callable after loading.\n"
     ]
    },
    {
     "name": "stdout",
     "output_type": "stream",
     "text": [
      "INFO:tensorflow:Assets written to: /tmp/tmpu1g0639_/assets\n"
     ]
    },
    {
     "name": "stderr",
     "output_type": "stream",
     "text": [
      "INFO:tensorflow:Assets written to: /tmp/tmpu1g0639_/assets\n"
     ]
    },
    {
     "name": "stdout",
     "output_type": "stream",
     "text": [
      "Model was saved at location: /media/master/wext/msc_studies/second_semester/microcontrollers/project/stm32/code/models/pruned_model_unstructured.tflite\n",
      "HDF5 Model size: 431 KB\n",
      "TFLite Model size: 300 KB\n",
      "\n",
      "Reduction in file size by a factor of 1.434413\n",
      "Evaluated on 100 images.\n",
      "Evaluated on 200 images.\n",
      "Evaluated on 300 images.\n",
      "Evaluated on 400 images.\n",
      "Evaluated on 500 images.\n",
      "Evaluated on 600 images.\n",
      "Evaluated on 700 images.\n",
      "Evaluated on 800 images.\n",
      "Evaluated on 900 images.\n",
      "Evaluated on 1000 images.\n",
      "Evaluated on 1100 images.\n",
      "Evaluated on 1200 images.\n",
      "Evaluated on 1300 images.\n",
      "Evaluated on 1400 images.\n",
      "Evaluated on 1500 images.\n",
      "Evaluated on 1600 images.\n",
      "Evaluated on 1700 images.\n",
      "Evaluated on 1800 images.\n",
      "Evaluated on 1900 images.\n",
      "Evaluated on 2000 images.\n",
      "Evaluated on 2100 images.\n",
      "Evaluated on 2200 images.\n",
      "Evaluated on 2300 images.\n",
      "Evaluated on 2400 images.\n",
      "Evaluated on 2500 images.\n",
      "Evaluated on 2600 images.\n",
      "Evaluated on 2700 images.\n",
      "Evaluated on 2800 images.\n",
      "Evaluated on 2900 images.\n",
      "pruned_model_unstructured model metrics:\n",
      "mse: 0.002\n",
      "mae: 0.033\n",
      "eval_loss: 0.033\n",
      "eval_metric: 0.154\n",
      "Saved metrics to /media/master/wext/msc_studies/second_semester/microcontrollers/project/stm32/code/models/metrics.json\n"
     ]
    },
    {
     "data": {
      "image/png": "[encoded data removed]",
      "text/plain": [
       "<Figure size 1500x800 with 1 Axes>"
      ]
     },
     "metadata": {},
     "output_type": "display_data"
    }
   ],
   "source": [
    "model_name = model_names[4]\n",
    "pruned_model_unstruct = get_model(\n",
    "    cfg.img_size,\n",
    "    cfg.num_classes,\n",
    "    in_channels=cfg.in_channels,\n",
    "    use_qat=False,\n",
    "    use_pruning=True,\n",
    "    use_pruning_struct=False,\n",
    "    use_dynamic_sparsity=False,\n",
    ")\n",
    "fit_eval(pruned_model_unstruct, model_name, do_save_model=False)\n",
    "pruned_model_for_export = save_pruned_model(\n",
    "    pruned_model_unstruct, f\"{cfg.save_model_dir}/{model_name}.h5\"\n",
    ")\n",
    "pruned_tflite_model = converter.keras_to_tflite(pruned_model_for_export, model_name)\n",
    "eval_model(\n",
    "        model=pruned_model_unstruct,\n",
    "        test_ds=ds_val,\n",
    "        tflite_path=f\"{cfg.save_model_dir}/{model_name}.tflite\",\n",
    "        model_name=model_name,\n",
    "        metrics_file_path=f\"{cfg.save_model_dir}/metrics.json\",\n",
    "    )\n",
    "write_model_h(cfiles[model_name], pruned_tflite_model, cfg.save_cfiles_dir)"
   ]
  },
  {
   "cell_type": "code",
   "execution_count": 14,
   "metadata": {},
   "outputs": [
    {
     "name": "stdout",
     "output_type": "stream",
     "text": [
      "Epoch 1/50\n",
      "24/24 [==============================] - 30s 1s/step - loss: 0.1562 - custom_metric: 0.7416 - val_loss: 0.2231 - val_custom_metric: 0.5272 - lr: 5.0000e-04\n",
      "Epoch 2/50\n",
      "24/24 [==============================] - 24s 1s/step - loss: 0.0703 - custom_metric: 0.7562 - val_loss: 0.1535 - val_custom_metric: 0.4222 - lr: 5.0000e-04\n",
      "Epoch 3/50\n",
      "24/24 [==============================] - 24s 1s/step - loss: 0.0687 - custom_metric: 0.6438 - val_loss: 0.1164 - val_custom_metric: 0.3497 - lr: 5.0000e-04\n",
      "Epoch 4/50\n",
      "24/24 [==============================] - 24s 1s/step - loss: 0.0627 - custom_metric: 0.5000 - val_loss: 0.0840 - val_custom_metric: 0.2753 - lr: 5.0000e-04\n",
      "Epoch 5/50\n",
      "24/24 [==============================] - 24s 1s/step - loss: 0.0658 - custom_metric: 0.6360 - val_loss: 0.0499 - val_custom_metric: 0.3100 - lr: 5.0000e-04\n",
      "Epoch 6/50\n",
      "24/24 [==============================] - 24s 1s/step - loss: 0.0589 - custom_metric: 0.4528 - val_loss: 0.0409 - val_custom_metric: 0.2023 - lr: 5.0000e-04\n",
      "Epoch 7/50\n",
      "24/24 [==============================] - 24s 1s/step - loss: 0.0490 - custom_metric: 0.3598 - val_loss: 0.0444 - val_custom_metric: 0.3036 - lr: 5.0000e-04\n",
      "Epoch 8/50\n",
      "24/24 [==============================] - 24s 1s/step - loss: 0.0487 - custom_metric: 0.3022 - val_loss: 0.0492 - val_custom_metric: 0.1718 - lr: 5.0000e-04\n",
      "Epoch 9/50\n",
      "24/24 [==============================] - 24s 1s/step - loss: 0.0438 - custom_metric: 0.2796 - val_loss: 0.0413 - val_custom_metric: 0.2554 - lr: 5.0000e-04\n",
      "Epoch 10/50\n",
      "24/24 [==============================] - 24s 1s/step - loss: 0.0375 - custom_metric: 0.2301 - val_loss: 0.0461 - val_custom_metric: 0.3362 - lr: 5.0000e-04\n",
      "Epoch 11/50\n",
      "24/24 [==============================] - 24s 1s/step - loss: 0.0305 - custom_metric: 0.1598 - val_loss: 0.0415 - val_custom_metric: 0.2405 - lr: 5.0000e-04\n",
      "Epoch 12/50\n",
      "24/24 [==============================] - 24s 1s/step - loss: 0.0304 - custom_metric: 0.1511 - val_loss: 0.0422 - val_custom_metric: 0.2818 - lr: 5.0000e-04\n",
      "Epoch 13/50\n",
      "24/24 [==============================] - 24s 1s/step - loss: 0.0451 - custom_metric: 0.2142 - val_loss: 0.0397 - val_custom_metric: 0.2044 - lr: 5.0000e-04\n",
      "Epoch 14/50\n",
      "24/24 [==============================] - 24s 1s/step - loss: 0.0436 - custom_metric: 0.2261 - val_loss: 0.0448 - val_custom_metric: 0.3275 - lr: 5.0000e-04\n",
      "Epoch 15/50\n",
      "24/24 [==============================] - ETA: 0s - loss: 0.0333 - custom_metric: 0.1875\n",
      "Epoch 15: ReduceLROnPlateau reducing learning rate to 0.00010000000474974513.\n",
      "24/24 [==============================] - 24s 1s/step - loss: 0.0333 - custom_metric: 0.1875 - val_loss: 0.0452 - val_custom_metric: 0.3363 - lr: 5.0000e-04\n",
      "Epoch 16/50\n",
      "24/24 [==============================] - 24s 1s/step - loss: 0.0282 - custom_metric: 0.1465 - val_loss: 0.0443 - val_custom_metric: 0.3231 - lr: 1.0000e-04\n",
      "Epoch 17/50\n",
      "24/24 [==============================] - 22s 948ms/step - loss: 0.0274 - custom_metric: 0.1367 - val_loss: 0.0427 - val_custom_metric: 0.2964 - lr: 1.0000e-04\n",
      "Epoch 18/50\n",
      "24/24 [==============================] - 22s 943ms/step - loss: 0.0270 - custom_metric: 0.1322 - val_loss: 0.0411 - val_custom_metric: 0.2721 - lr: 1.0000e-04\n",
      "Epoch 19/50\n",
      "24/24 [==============================] - 23s 968ms/step - loss: 0.0269 - custom_metric: 0.1303 - val_loss: 0.0395 - val_custom_metric: 0.2482 - lr: 1.0000e-04\n",
      "Epoch 20/50\n",
      "24/24 [==============================] - 23s 996ms/step - loss: 0.0267 - custom_metric: 0.1289 - val_loss: 0.0378 - val_custom_metric: 0.2246 - lr: 1.0000e-04\n",
      "Epoch 21/50\n",
      "24/24 [==============================] - 23s 993ms/step - loss: 0.0266 - custom_metric: 0.1276 - val_loss: 0.0360 - val_custom_metric: 0.2023 - lr: 1.0000e-04\n",
      "Epoch 22/50\n",
      "24/24 [==============================] - ETA: 0s - loss: 0.0265 - custom_metric: 0.1265\n",
      "Epoch 22: ReduceLROnPlateau reducing learning rate to 2.0000000949949027e-05.\n",
      "24/24 [==============================] - 24s 1s/step - loss: 0.0265 - custom_metric: 0.1265 - val_loss: 0.0343 - val_custom_metric: 0.1816 - lr: 1.0000e-04\n",
      "Epoch 23/50\n",
      "24/24 [==============================] - 23s 985ms/step - loss: 0.0264 - custom_metric: 0.1258 - val_loss: 0.0327 - val_custom_metric: 0.1652 - lr: 2.0000e-05\n",
      "Epoch 24/50\n",
      "24/24 [==============================] - 24s 999ms/step - loss: 0.0264 - custom_metric: 0.1256 - val_loss: 0.0312 - val_custom_metric: 0.1504 - lr: 2.0000e-05\n",
      "Epoch 25/50\n",
      "24/24 [==============================] - 23s 988ms/step - loss: 0.0264 - custom_metric: 0.1254 - val_loss: 0.0298 - val_custom_metric: 0.1383 - lr: 2.0000e-05\n",
      "Epoch 26/50\n",
      "24/24 [==============================] - 23s 997ms/step - loss: 0.0263 - custom_metric: 0.1252 - val_loss: 0.0287 - val_custom_metric: 0.1295 - lr: 2.0000e-05\n",
      "Epoch 27/50\n",
      "24/24 [==============================] - ETA: 0s - loss: 0.0263 - custom_metric: 0.1250\n",
      "Epoch 27: ReduceLROnPlateau reducing learning rate to 4.000000262749381e-06.\n",
      "24/24 [==============================] - 23s 994ms/step - loss: 0.0263 - custom_metric: 0.1250 - val_loss: 0.0278 - val_custom_metric: 0.1235 - lr: 2.0000e-05\n",
      "Epoch 28/50\n",
      "24/24 [==============================] - 23s 991ms/step - loss: 0.0263 - custom_metric: 0.1249 - val_loss: 0.0272 - val_custom_metric: 0.1202 - lr: 4.0000e-06\n",
      "Epoch 29/50\n",
      "24/24 [==============================] - 23s 997ms/step - loss: 0.0263 - custom_metric: 0.1248 - val_loss: 0.0268 - val_custom_metric: 0.1185 - lr: 4.0000e-06\n",
      "Epoch 30/50\n",
      "24/24 [==============================] - 23s 995ms/step - loss: 0.0263 - custom_metric: 0.1248 - val_loss: 0.0265 - val_custom_metric: 0.1180 - lr: 4.0000e-06\n",
      "Epoch 31/50\n",
      "24/24 [==============================] - 24s 1s/step - loss: 0.0263 - custom_metric: 0.1247 - val_loss: 0.0264 - val_custom_metric: 0.1182 - lr: 4.0000e-06\n",
      "Epoch 32/50\n",
      "24/24 [==============================] - ETA: 0s - loss: 0.0263 - custom_metric: 0.1247\n",
      "Epoch 32: ReduceLROnPlateau reducing learning rate to 8.000000889296644e-07.\n",
      "24/24 [==============================] - 24s 1s/step - loss: 0.0263 - custom_metric: 0.1247 - val_loss: 0.0263 - val_custom_metric: 0.1188 - lr: 4.0000e-06\n",
      "Epoch 33/50\n",
      "24/24 [==============================] - 22s 943ms/step - loss: 0.0263 - custom_metric: 0.1247 - val_loss: 0.0263 - val_custom_metric: 0.1196 - lr: 8.0000e-07\n",
      "pruned_model_unstructured_dynamic model metrics:\n",
      "eval_loss: 0.026\n",
      "eval_metric: 0.120\n",
      "Saved metrics to /media/master/wext/msc_studies/second_semester/microcontrollers/project/stm32/code/models/metrics.json\n",
      "WARNING:tensorflow:Compiled the loaded model, but the compiled metrics have yet to be built. `model.compile_metrics` will be empty until you train or evaluate the model.\n"
     ]
    },
    {
     "name": "stderr",
     "output_type": "stream",
     "text": [
      "WARNING:tensorflow:Compiled the loaded model, but the compiled metrics have yet to be built. `model.compile_metrics` will be empty until you train or evaluate the model.\n"
     ]
    },
    {
     "name": "stdout",
     "output_type": "stream",
     "text": [
      "Saved pruned Keras model to: /media/master/wext/msc_studies/second_semester/microcontrollers/project/stm32/code/models/pruned_model_unstructured_dynamic.h5\n"
     ]
    },
    {
     "name": "stderr",
     "output_type": "stream",
     "text": [
      "WARNING:absl:Found untraced functions such as _jit_compiled_convolution_op, _jit_compiled_convolution_op, _jit_compiled_convolution_op, _jit_compiled_convolution_op, _jit_compiled_convolution_op while saving (showing 5 of 17). These functions will not be directly callable after loading.\n"
     ]
    },
    {
     "name": "stdout",
     "output_type": "stream",
     "text": [
      "INFO:tensorflow:Assets written to: /tmp/tmpzcs30j6g/assets\n"
     ]
    },
    {
     "name": "stderr",
     "output_type": "stream",
     "text": [
      "INFO:tensorflow:Assets written to: /tmp/tmpzcs30j6g/assets\n"
     ]
    },
    {
     "name": "stdout",
     "output_type": "stream",
     "text": [
      "Model was saved at location: /media/master/wext/msc_studies/second_semester/microcontrollers/project/stm32/code/models/pruned_model_unstructured_dynamic.tflite\n",
      "HDF5 Model size: 431 KB\n",
      "TFLite Model size: 300 KB\n",
      "\n",
      "Reduction in file size by a factor of 1.434413\n",
      "Evaluated on 100 images.\n",
      "Evaluated on 200 images.\n",
      "Evaluated on 300 images.\n",
      "Evaluated on 400 images.\n",
      "Evaluated on 500 images.\n",
      "Evaluated on 600 images.\n",
      "Evaluated on 700 images.\n",
      "Evaluated on 800 images.\n",
      "Evaluated on 900 images.\n",
      "Evaluated on 1000 images.\n",
      "Evaluated on 1100 images.\n",
      "Evaluated on 1200 images.\n",
      "Evaluated on 1300 images.\n",
      "Evaluated on 1400 images.\n",
      "Evaluated on 1500 images.\n",
      "Evaluated on 1600 images.\n",
      "Evaluated on 1700 images.\n",
      "Evaluated on 1800 images.\n",
      "Evaluated on 1900 images.\n",
      "Evaluated on 2000 images.\n",
      "Evaluated on 2100 images.\n",
      "Evaluated on 2200 images.\n",
      "Evaluated on 2300 images.\n",
      "Evaluated on 2400 images.\n",
      "Evaluated on 2500 images.\n",
      "Evaluated on 2600 images.\n",
      "Evaluated on 2700 images.\n",
      "Evaluated on 2800 images.\n",
      "Evaluated on 2900 images.\n",
      "pruned_model_unstructured_dynamic model metrics:\n",
      "mse: 0.001\n",
      "mae: 0.026\n",
      "eval_loss: 0.026\n",
      "eval_metric: 0.120\n",
      "Saved metrics to /media/master/wext/msc_studies/second_semester/microcontrollers/project/stm32/code/models/metrics.json\n"
     ]
    },
    {
     "data": {
      "image/png": "[encoded data removed]",
      "text/plain": [
       "<Figure size 1500x800 with 1 Axes>"
      ]
     },
     "metadata": {},
     "output_type": "display_data"
    }
   ],
   "source": [
    "model_name = model_names[5]\n",
    "pruned_model_unstruct_dynamic = get_model(\n",
    "    cfg.img_size,\n",
    "    cfg.num_classes,\n",
    "    in_channels=cfg.in_channels,\n",
    "    use_qat=False,\n",
    "    use_pruning=True,\n",
    "    use_pruning_struct=False,\n",
    "    use_dynamic_sparsity=True,\n",
    ")\n",
    "fit_eval(pruned_model_unstruct_dynamic, model_name, do_save_model=False)\n",
    "pruned_model_unstructured_for_export = save_pruned_model(\n",
    "    pruned_model_unstruct_dynamic, f\"{cfg.save_model_dir}/{model_name}.h5\"\n",
    ")\n",
    "pruned_tflite_model = converter.keras_to_tflite(pruned_model_unstructured_for_export, model_name)\n",
    "eval_model(\n",
    "        model=pruned_model_unstruct_dynamic,\n",
    "        test_ds=ds_val,\n",
    "        tflite_path=f\"{cfg.save_model_dir}/{model_name}.tflite\",\n",
    "        model_name=model_name,\n",
    "        metrics_file_path=f\"{cfg.save_model_dir}/metrics.json\",\n",
    "    )\n",
    "write_model_h(cfiles[model_name], pruned_tflite_model, cfg.save_cfiles_dir)"
   ]
  },
  {
   "cell_type": "code",
   "execution_count": 15,
   "metadata": {},
   "outputs": [
    {
     "name": "stdout",
     "output_type": "stream",
     "text": [
      "Epoch 1/50\n",
      "24/24 [==============================] - 26s 1s/step - loss: 0.0289 - custom_metric: 0.1463 - val_loss: 0.0285 - val_custom_metric: 0.1411 - lr: 5.0000e-04\n",
      "Epoch 2/50\n",
      "24/24 [==============================] - 24s 1s/step - loss: 0.0249 - custom_metric: 0.1113 - val_loss: 0.0267 - val_custom_metric: 0.1220 - lr: 5.0000e-04\n",
      "Epoch 3/50\n",
      "24/24 [==============================] - 24s 1s/step - loss: 0.0239 - custom_metric: 0.1010 - val_loss: 0.0256 - val_custom_metric: 0.1113 - lr: 5.0000e-04\n",
      "Epoch 4/50\n",
      "24/24 [==============================] - 24s 1s/step - loss: 0.0233 - custom_metric: 0.0963 - val_loss: 0.0245 - val_custom_metric: 0.1025 - lr: 5.0000e-04\n",
      "Epoch 5/50\n",
      "24/24 [==============================] - 24s 1s/step - loss: 0.0228 - custom_metric: 0.0934 - val_loss: 0.0238 - val_custom_metric: 0.0974 - lr: 5.0000e-04\n",
      "Epoch 6/50\n",
      "24/24 [==============================] - ETA: 0s - loss: 0.0225 - custom_metric: 0.0911\n",
      "Epoch 6: ReduceLROnPlateau reducing learning rate to 0.00010000000474974513.\n",
      "24/24 [==============================] - 24s 1s/step - loss: 0.0225 - custom_metric: 0.0911 - val_loss: 0.0236 - val_custom_metric: 0.0957 - lr: 5.0000e-04\n",
      "Epoch 7/50\n",
      "24/24 [==============================] - 24s 1s/step - loss: 0.0219 - custom_metric: 0.0884 - val_loss: 0.0233 - val_custom_metric: 0.0937 - lr: 1.0000e-04\n",
      "Epoch 8/50\n",
      "24/24 [==============================] - 24s 1s/step - loss: 0.0218 - custom_metric: 0.0877 - val_loss: 0.0233 - val_custom_metric: 0.0932 - lr: 1.0000e-04\n",
      "Epoch 9/50\n",
      "24/24 [==============================] - 23s 987ms/step - loss: 0.0217 - custom_metric: 0.0874 - val_loss: 0.0232 - val_custom_metric: 0.0924 - lr: 1.0000e-04\n",
      "Epoch 10/50\n",
      "24/24 [==============================] - 24s 1s/step - loss: 0.0216 - custom_metric: 0.0869 - val_loss: 0.0231 - val_custom_metric: 0.0919 - lr: 1.0000e-04\n",
      "Epoch 11/50\n",
      "24/24 [==============================] - ETA: 0s - loss: 0.0215 - custom_metric: 0.0865\n",
      "Epoch 11: ReduceLROnPlateau reducing learning rate to 2.0000000949949027e-05.\n",
      "24/24 [==============================] - 24s 1s/step - loss: 0.0215 - custom_metric: 0.0865 - val_loss: 0.0230 - val_custom_metric: 0.0915 - lr: 1.0000e-04\n",
      "Epoch 12/50\n",
      "24/24 [==============================] - 24s 1s/step - loss: 0.0214 - custom_metric: 0.0858 - val_loss: 0.0227 - val_custom_metric: 0.0908 - lr: 2.0000e-05\n",
      "Epoch 13/50\n",
      "24/24 [==============================] - 25s 1s/step - loss: 0.0213 - custom_metric: 0.0855 - val_loss: 0.0227 - val_custom_metric: 0.0908 - lr: 2.0000e-05\n",
      "Epoch 14/50\n",
      "24/24 [==============================] - 24s 1s/step - loss: 0.0212 - custom_metric: 0.0853 - val_loss: 0.0227 - val_custom_metric: 0.0907 - lr: 2.0000e-05\n",
      "pruned_qat_model model metrics:\n",
      "eval_loss: 0.023\n",
      "eval_metric: 0.091\n",
      "Saved metrics to /media/master/wext/msc_studies/second_semester/microcontrollers/project/stm32/code/models/metrics.json\n",
      "WARNING:tensorflow:Compiled the loaded model, but the compiled metrics have yet to be built. `model.compile_metrics` will be empty until you train or evaluate the model.\n"
     ]
    },
    {
     "name": "stderr",
     "output_type": "stream",
     "text": [
      "WARNING:tensorflow:Compiled the loaded model, but the compiled metrics have yet to be built. `model.compile_metrics` will be empty until you train or evaluate the model.\n"
     ]
    },
    {
     "name": "stdout",
     "output_type": "stream",
     "text": [
      "Saved pruned Keras model to: /media/master/wext/msc_studies/second_semester/microcontrollers/project/stm32/code/models/pruned_qat_model.h5\n"
     ]
    },
    {
     "name": "stderr",
     "output_type": "stream",
     "text": [
      "WARNING:absl:Found untraced functions such as conv2d_layer_call_fn, conv2d_layer_call_and_return_conditional_losses, _jit_compiled_convolution_op, activation_layer_call_fn, activation_layer_call_and_return_conditional_losses while saving (showing 5 of 83). These functions will not be directly callable after loading.\n"
     ]
    },
    {
     "name": "stdout",
     "output_type": "stream",
     "text": [
      "Model was saved at location: /media/master/wext/msc_studies/second_semester/microcontrollers/project/stm32/code/models/pruned_qat_model.tflite\n",
      "HDF5 Model size: 587 KB\n",
      "TFLite Model size: 643 KB\n",
      "\n",
      "Reduction in file size by a factor of 0.913258\n",
      "Evaluated on 100 images.\n",
      "Evaluated on 200 images.\n",
      "Evaluated on 300 images.\n",
      "Evaluated on 400 images.\n",
      "Evaluated on 500 images.\n",
      "Evaluated on 600 images.\n",
      "Evaluated on 700 images.\n",
      "Evaluated on 800 images.\n",
      "Evaluated on 900 images.\n",
      "Evaluated on 1000 images.\n",
      "Evaluated on 1100 images.\n",
      "Evaluated on 1200 images.\n",
      "Evaluated on 1300 images.\n",
      "Evaluated on 1400 images.\n",
      "Evaluated on 1500 images.\n",
      "Evaluated on 1600 images.\n",
      "Evaluated on 1700 images.\n",
      "Evaluated on 1800 images.\n",
      "Evaluated on 1900 images.\n",
      "Evaluated on 2000 images.\n",
      "Evaluated on 2100 images.\n",
      "Evaluated on 2200 images.\n",
      "Evaluated on 2300 images.\n",
      "Evaluated on 2400 images.\n",
      "Evaluated on 2500 images.\n",
      "Evaluated on 2600 images.\n",
      "Evaluated on 2700 images.\n",
      "Evaluated on 2800 images.\n",
      "Evaluated on 2900 images.\n",
      "pruned_qat_model model metrics:\n",
      "mse: 0.001\n",
      "mae: 0.023\n",
      "eval_loss: 0.023\n",
      "eval_metric: 0.091\n",
      "Saved metrics to /media/master/wext/msc_studies/second_semester/microcontrollers/project/stm32/code/models/metrics.json\n"
     ]
    },
    {
     "data": {
      "image/png": "[encoded data removed]",
      "text/plain": [
       "<Figure size 1500x800 with 1 Axes>"
      ]
     },
     "metadata": {},
     "output_type": "display_data"
    }
   ],
   "source": [
    "model_name = model_names[6]\n",
    "pruned_qat_model = get_model(\n",
    "    cfg.img_size,\n",
    "    cfg.num_classes,\n",
    "    in_channels=cfg.in_channels,\n",
    "    use_qat=True,\n",
    "    use_pruning=True,\n",
    "    use_pruning_struct=False,\n",
    "    use_dynamic_sparsity=False,\n",
    "    pruned_model_unstructured_for_export=pruned_model_unstructured_for_export\n",
    ")\n",
    "fit_eval(pruned_qat_model, model_name, do_save_model=False)\n",
    "pruned_model_for_export = save_pruned_model(\n",
    "    pruned_qat_model, f\"{cfg.save_model_dir}/{model_name}.h5\"\n",
    ")\n",
    "pruned_tflite_model = converter.keras_to_tflite(pruned_model_for_export, model_name)\n",
    "eval_model(\n",
    "        model=pruned_qat_model,\n",
    "        test_ds=ds_val,\n",
    "        tflite_path=f\"{cfg.save_model_dir}/{model_name}.tflite\",\n",
    "        model_name=model_name,\n",
    "        metrics_file_path=f\"{cfg.save_model_dir}/metrics.json\",\n",
    "    )\n",
    "write_model_h(cfiles[model_name], pruned_tflite_model, cfg.save_cfiles_dir)"
   ]
  },
  {
   "cell_type": "code",
   "execution_count": null,
   "metadata": {},
   "outputs": [],
   "source": []
  }
 ],
 "metadata": {
  "kernelspec": {
   "display_name": "sc",
   "language": "python",
   "name": "python3"
  },
  "language_info": {
   "codemirror_mode": {
    "name": "ipython",
    "version": 3
   },
   "file_extension": ".py",
   "mimetype": "text/x-python",
   "name": "python",
   "nbconvert_exporter": "python",
   "pygments_lexer": "ipython3",
   "version": "3.9.16"
  },
  "orig_nbformat": 4
 },
 "nbformat": 4,
 "nbformat_minor": 2
}

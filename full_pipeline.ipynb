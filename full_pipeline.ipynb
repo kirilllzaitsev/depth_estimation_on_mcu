{
 "cells": [
  {
   "cell_type": "code",
   "execution_count": 1,
   "metadata": {},
   "outputs": [],
   "source": [
    "import numpy as np\n",
    "import matplotlib.pyplot as plt\n",
    "import tensorflow as tf\n",
    "import tensorflow.keras as keras\n",
    "from utils import set_seed\n",
    "from plot_utils import plot_eval_results\n",
    "\n",
    "set_seed()\n"
   ]
  },
  {
   "cell_type": "code",
   "execution_count": 2,
   "metadata": {},
   "outputs": [],
   "source": [
    "\n",
    "from mnist_utils import plot_samples\n",
    "from config import cfg\n",
    "from vanilla_model import fit as fit_vanilla\n",
    "from metrics import calc_metrics\n",
    "from converters import Converter\n",
    "from config import cfg\n",
    "from eval import run_tflite_model\n",
    "from c_utils import write_model_h\n",
    "from utils import save_test_data\n",
    "import plot_utils as pu\n",
    "from model import get_model\n",
    "from model import save_pruned_model\n",
    "from utils import get_gzipped_model_size"
   ]
  },
  {
   "cell_type": "code",
   "execution_count": 3,
   "metadata": {},
   "outputs": [
    {
     "name": "stdout",
     "output_type": "stream",
     "text": [
      "Dataset: NYU Depth V2\n",
      "# of train images: 50688\n",
      "Dataset: NYU Depth V2\n",
      "# of test images: 654\n",
      "Train size:  40551\n",
      "Val size:  10137\n",
      "Test size:  654\n"
     ]
    }
   ],
   "source": [
    "from nyuv2_torch_ds_adapter import get_tf_nyuv2_ds\n",
    "import argparse\n",
    "args = argparse.Namespace()\n",
    "args.truncate_testset = False\n",
    "# args.target_size = (64, 64)\n",
    "args.crop_size = (640, 480)\n",
    "# args.target_size = (64, 64)\n",
    "args.target_size = cfg.img_size\n",
    "args.out_fold_ratio = 1\n",
    "args.is_maxim = False\n",
    "args.batch_size=cfg.batch_size*4\n",
    "\n",
    "ds_train, ds_val, ds_test = get_tf_nyuv2_ds(cfg.base_kitti_dataset_dir, args)\n",
    "# train_size=cfg.take_first_n\n",
    "# ds_train = ds_train.take(train_size)\n",
    "# val_size=cfg.take_first_n\n",
    "# ds_val = ds_val.take(val_size)\n",
    "# test_size=cfg.take_first_n\n",
    "# ds_test = ds_test.take(test_size)\n",
    "\n",
    "x_val= next(iter(ds_val))\n",
    "x_train= next(iter(ds_train))"
   ]
  },
  {
   "cell_type": "code",
   "execution_count": 4,
   "metadata": {},
   "outputs": [],
   "source": [
    "import os\n",
    "converter = Converter(cfg)\n",
    "os.makedirs(cfg.save_model_dir, exist_ok=True)\n",
    "os.makedirs(cfg.save_cfiles_dir, exist_ok=True)\n",
    "os.makedirs(cfg.save_test_data_dir, exist_ok=True)"
   ]
  },
  {
   "cell_type": "code",
   "execution_count": 5,
   "metadata": {},
   "outputs": [
    {
     "name": "stdout",
     "output_type": "stream",
     "text": [
      "Test image data location:  /media/master/wext/msc_studies/second_semester/microcontrollers/project/stm32/code/test_data/x_test_depth.npy\n",
      "Test labels location:  /media/master/wext/msc_studies/second_semester/microcontrollers/project/stm32/code/test_data/y_test_depth.npy\n"
     ]
    }
   ],
   "source": [
    "model_names = [\n",
    "    \"depth_model_quant8_dynR\",\n",
    "    \"depth_full_quant\",\n",
    "    \"depth_qat_int8\",\n",
    "    \"pruned_model\",\n",
    "    \"pruned_model_unstructured\",\n",
    "    \"pruned_model_unstructured_dynamic\",\n",
    "    \"pruned_qat_model\",\n",
    "    \"depth_model_fp32\",\n",
    "]\n",
    "cfiles = {\n",
    "    \"depth_model_quant8_dynR\": \"depth_model_quant8_dynR\",\n",
    "    \"depth_full_quant\": \"q8depth\",\n",
    "    \"depth_qat_int8\": \"qat8depth\",\n",
    "    \"pruned_model\": \"pruned\",\n",
    "    \"pruned_model_unstructured\": \"pruned_unstructured\",\n",
    "    \"pruned_model_unstructured_dynamic\": \"pruned_unstructured_dynamic\",\n",
    "    \"pruned_qat_model\": \"pruned_unstructured_qat_model\",\n",
    "    \"depth_model_fp32\": \"depth_model_fp32\",\n",
    "}\n",
    "save_test_data(cfg.save_test_data_dir, x_train[0], x_train[1])"
   ]
  },
  {
   "cell_type": "code",
   "execution_count": 12,
   "metadata": {
    "notebookRunGroups": {
     "groupValue": "1"
    }
   },
   "outputs": [],
   "source": [
    "import pickle\n",
    "from eval import eval_model\n",
    "from loss import calculate_loss\n",
    "from model import get_model\n",
    "import tensorflow_model_optimization as tfmot\n",
    "\n",
    "\n",
    "def fit_eval(model, model_name, do_save_model=True):\n",
    "    keras.backend.clear_session()\n",
    "    # loss = tf.keras.losses.MeanSquaredError()\n",
    "    metrics = tf.keras.metrics.Mean(name=\"loss\")\n",
    "\n",
    "    # Define a custom metric\n",
    "    def custom_metric(y_true, y_pred, sample_weight=None):\n",
    "        metric_value = calculate_loss(y_true, y_pred)\n",
    "        metrics.update_state(metric_value, sample_weight=sample_weight)\n",
    "        return metric_value\n",
    "\n",
    "    optimizer = tf.keras.optimizers.Adam(learning_rate=0.0005)\n",
    "\n",
    "    model.compile(optimizer=optimizer, loss=\"mae\", metrics=[custom_metric])\n",
    "\n",
    "    reduce_lr = tf.keras.callbacks.ReduceLROnPlateau(\n",
    "        monitor=\"loss\", factor=0.2, min_lr=1e-7, patience=5, min_delta=1e-2, verbose=1\n",
    "    )\n",
    "    callbacks = [reduce_lr]\n",
    "    if \"pruned\" in model_name:\n",
    "        callbacks.append(tfmot.sparsity.keras.UpdatePruningStep())\n",
    "    if not cfg.do_overfit:\n",
    "        tbCallBack = tf.keras.callbacks.TensorBoard(\n",
    "            log_dir=f\"{cfg.logdir}/tb_logs\",\n",
    "            histogram_freq=0,\n",
    "            write_graph=False,\n",
    "            write_images=False,\n",
    "        )\n",
    "        es = tf.keras.callbacks.EarlyStopping(\n",
    "            patience=cfg.es_patience, restore_best_weights=True\n",
    "        )\n",
    "        model_checkpoint_callback = tf.keras.callbacks.ModelCheckpoint(\n",
    "            filepath=cfg.logdir + f\"/{model_name}\",\n",
    "            save_weights_only=True,\n",
    "            monitor=\"custom_metric\",\n",
    "            mode=\"min\",\n",
    "            save_best_only=True,\n",
    "        )\n",
    "        callbacks.append(es)\n",
    "        callbacks.append(model_checkpoint_callback)\n",
    "        callbacks.append(tbCallBack)\n",
    "    history = model.fit(\n",
    "        x=ds_train,\n",
    "        epochs=cfg.epochs,\n",
    "        validation_data=ds_val,\n",
    "        callbacks=callbacks,\n",
    "        verbose=1,\n",
    "    )\n",
    "    # pickle history\n",
    "    with open(f\"{cfg.save_model_dir}/{model_name}_history.pkl\", \"wb\") as f:\n",
    "        pickle.dump(history.history, f)\n",
    "\n",
    "    # plot history\n",
    "    pu.plot_history(history, f\"{cfg.save_model_dir}/{model_name}_history.png\")\n",
    "    tflite_path=None\n",
    "    model_tflite=None\n",
    "    if do_save_model:\n",
    "        model.save(f\"{cfg.save_model_dir}/{model_name}.h5\")\n",
    "        model_tflite, tflite_path = converter.keras_to_tflite(model, model_name, do_return_path=True)\n",
    "    # tflite_path='/tmp/models/depth_model_fp32.tflite'\n",
    "    metrics = eval_model(\n",
    "        model=model,\n",
    "        test_ds=ds_val,\n",
    "        tflite_path=tflite_path,\n",
    "        model_name=model_name,\n",
    "        metrics_file_path=f\"{cfg.save_model_dir}/metrics.json\",\n",
    "    )\n",
    "    return model_tflite, metrics, history"
   ]
  },
  {
   "cell_type": "code",
   "execution_count": 25,
   "metadata": {},
   "outputs": [],
   "source": [
    "# load history\n",
    "# with open(f\"{cfg.save_model_dir}/{model_names[7]}_history.pkl\", \"rb\") as f:\n",
    "#     history2 = pickle.load(f)\n",
    "# pu.plot_history(history2, f\"{cfg.save_model_dir}/{model_names[7]}_history.png\")"
   ]
  },
  {
   "cell_type": "code",
   "execution_count": 27,
   "metadata": {},
   "outputs": [],
   "source": [
    "# Build model\n",
    "keras.backend.clear_session()\n",
    "fp_model = get_model(\n",
    "    cfg.img_size, cfg.num_classes, in_channels=cfg.in_channels, use_qat=False\n",
    ")\n",
    "fit_eval(fp_model, model_names[7])"
   ]
  },
  {
   "cell_type": "code",
   "execution_count": 19,
   "metadata": {},
   "outputs": [
    {
     "name": "stderr",
     "output_type": "stream",
     "text": [
      "WARNING:absl:Found untraced functions such as _jit_compiled_convolution_op, _jit_compiled_convolution_op, _jit_compiled_convolution_op, _jit_compiled_convolution_op, _jit_compiled_convolution_op while saving (showing 5 of 17). These functions will not be directly callable after loading.\n"
     ]
    },
    {
     "name": "stdout",
     "output_type": "stream",
     "text": [
      "INFO:tensorflow:Assets written to: /tmp/tmpg3068jei/assets\n"
     ]
    },
    {
     "name": "stderr",
     "output_type": "stream",
     "text": [
      "INFO:tensorflow:Assets written to: /tmp/tmpg3068jei/assets\n"
     ]
    },
    {
     "name": "stdout",
     "output_type": "stream",
     "text": [
      "Model was saved at location: /tmp/models/depth_model_quant8_dynR.tflite\n"
     ]
    }
   ],
   "source": [
    "dynR_quant_tflite_model = converter.dynamic_range_quantization(fp_model, model_names[0])"
   ]
  },
  {
   "cell_type": "code",
   "execution_count": 20,
   "metadata": {},
   "outputs": [
    {
     "name": "stderr",
     "output_type": "stream",
     "text": [
      "WARNING:absl:Found untraced functions such as _jit_compiled_convolution_op, _jit_compiled_convolution_op, _jit_compiled_convolution_op, _jit_compiled_convolution_op, _jit_compiled_convolution_op while saving (showing 5 of 17). These functions will not be directly callable after loading.\n"
     ]
    },
    {
     "name": "stdout",
     "output_type": "stream",
     "text": [
      "INFO:tensorflow:Assets written to: /tmp/tmp81ruxdxg/assets\n"
     ]
    },
    {
     "name": "stderr",
     "output_type": "stream",
     "text": [
      "INFO:tensorflow:Assets written to: /tmp/tmp81ruxdxg/assets\n"
     ]
    },
    {
     "name": "stdout",
     "output_type": "stream",
     "text": [
      "Model was saved at location: /tmp/models/depth_full_quant.tflite\n",
      "TFLite Model size with 8-bit quantization: 167 KB\n",
      "TFLite Model size without quantization: 511 KB\n",
      "\n",
      "Reduction in model size by a factor of 3.059660\n",
      "input:  <class 'numpy.uint8'>\n",
      "output:  <class 'numpy.uint8'>\n"
     ]
    },
    {
     "name": "stderr",
     "output_type": "stream",
     "text": [
      "/home/master/.conda/envs/sc/lib/python3.9/site-packages/tensorflow/lite/python/convert.py:765: UserWarning: Statistics for quantized inputs were expected, but not specified; continuing anyway.\n",
      "  warnings.warn(\"Statistics for quantized inputs were expected, but not \"\n",
      "fully_quantize: 0, inference_type: 6, input_inference_type: UINT8, output_inference_type: UINT8\n"
     ]
    }
   ],
   "source": [
    "tflite_model_quant_int8=converter.eight_bit_quantization(fp_model, ds_train, model_name=model_names[1])\n",
    "converter.check_quantized_model(tflite_model_quant_int8)"
   ]
  },
  {
   "cell_type": "code",
   "execution_count": 23,
   "metadata": {},
   "outputs": [
    {
     "name": "stdout",
     "output_type": "stream",
     "text": [
      "depth_full_quant model metrics:\n",
      "mse: 20593.297\n",
      "mae: 142.871\n",
      "eval_loss: -1.000\n",
      "eval_metric: -1.000\n",
      "Saved metrics to /tmp/models/metrics.json\n"
     ]
    }
   ],
   "source": [
    "depth_full_quant_tflite_path=f'{cfg.save_model_dir}/{model_names[1]}.tflite'\n",
    "eval_model(\n",
    "        ds_val,\n",
    "        tflite_path=depth_full_quant_tflite_path,\n",
    "        model=None,\n",
    "        model_name=model_names[1],\n",
    "        metrics_file_path=f\"{cfg.save_model_dir}/metrics.json\",\n",
    "    )\n",
    "write_model_h(cfiles[model_names[1]], tflite_model_quant_int8)"
   ]
  },
  {
   "cell_type": "code",
   "execution_count": 29,
   "metadata": {},
   "outputs": [
    {
     "name": "stdout",
     "output_type": "stream",
     "text": [
      "Epoch 1/5\n",
      "1/1 [==============================] - 3s 3s/step - loss: 0.8796 - custom_metric: 1.2940 - val_loss: 0.2995 - val_custom_metric: 1.0563 - lr: 1.0000e-04\n",
      "Epoch 2/5\n",
      "1/1 [==============================] - 0s 73ms/step - loss: 0.8155 - custom_metric: 1.3239 - val_loss: 0.2537 - val_custom_metric: 0.9777 - lr: 1.0000e-04\n",
      "Epoch 3/5\n",
      "1/1 [==============================] - 0s 76ms/step - loss: 0.7753 - custom_metric: 1.3056 - val_loss: 0.2203 - val_custom_metric: 0.9015 - lr: 1.0000e-04\n",
      "Epoch 4/5\n",
      "1/1 [==============================] - 0s 78ms/step - loss: 0.7466 - custom_metric: 1.2851 - val_loss: 0.1861 - val_custom_metric: 0.8344 - lr: 1.0000e-04\n",
      "Epoch 5/5\n",
      "1/1 [==============================] - 0s 74ms/step - loss: 0.7388 - custom_metric: 1.2217 - val_loss: 0.1856 - val_custom_metric: 0.8464 - lr: 1.0000e-04\n"
     ]
    },
    {
     "name": "stderr",
     "output_type": "stream",
     "text": [
      "WARNING:absl:Found untraced functions such as conv2d_layer_call_fn, conv2d_layer_call_and_return_conditional_losses, _jit_compiled_convolution_op, activation_layer_call_fn, activation_layer_call_and_return_conditional_losses while saving (showing 5 of 83). These functions will not be directly callable after loading.\n"
     ]
    },
    {
     "name": "stdout",
     "output_type": "stream",
     "text": [
      "Model was saved at location: /tmp/models/depth_qat_int8.tflite\n",
      "HDF5 Model size: 3810 KB\n",
      "TFLite Model size: 2315 KB\n",
      "\n",
      "Reduction in file size by a factor of 1.645855\n",
      "depth_qat_int8 model metrics:\n",
      "mse: 0.602\n",
      "mae: 0.752\n",
      "eval_loss: 0.752\n",
      "eval_metric: 1.105\n",
      "Saved metrics to /tmp/models/metrics.json\n"
     ]
    },
    {
     "name": "stderr",
     "output_type": "stream",
     "text": [
      "WARNING:absl:Found untraced functions such as conv2d_layer_call_fn, conv2d_layer_call_and_return_conditional_losses, _jit_compiled_convolution_op, activation_layer_call_fn, activation_layer_call_and_return_conditional_losses while saving (showing 5 of 83). These functions will not be directly callable after loading.\n",
      "/home/master/.conda/envs/sc/lib/python3.9/site-packages/tensorflow/lite/python/convert.py:765: UserWarning: Statistics for quantized inputs were expected, but not specified; continuing anyway.\n",
      "  warnings.warn(\"Statistics for quantized inputs were expected, but not \"\n",
      "fully_quantize: 0, inference_type: 6, input_inference_type: UINT8, output_inference_type: UINT8\n"
     ]
    },
    {
     "name": "stdout",
     "output_type": "stream",
     "text": [
      "Model was saved at location: /tmp/models/depth_qat_int8.tflite\n",
      "TFLite Model size with 8-bit quantization: 328 KB\n",
      "TFLite Model size without quantization: 511 KB\n",
      "\n",
      "Reduction in model size by a factor of 1.557951\n"
     ]
    }
   ],
   "source": [
    "# Convert the model to a quantization aware model\n",
    "quant_aware_model = get_model(\n",
    "    cfg.img_size, cfg.num_classes, in_channels=3, use_qat=True\n",
    ")\n",
    "model_name = model_names[2]\n",
    "fit_eval(quant_aware_model, model_name)\n",
    "quant_aware_model_converted = converter.eight_bit_quantization(\n",
    "    quant_aware_model, ds_train, model_name=model_name\n",
    ")\n",
    "write_model_h(cfiles[model_name], quant_aware_model_converted)"
   ]
  },
  {
   "cell_type": "code",
   "execution_count": 7,
   "metadata": {},
   "outputs": [
    {
     "name": "stdout",
     "output_type": "stream",
     "text": [
      "WARNING:tensorflow:From /home/master/.conda/envs/sc/lib/python3.9/site-packages/tensorflow/python/autograph/pyct/static_analysis/liveness.py:83: Analyzer.lamba_check (from tensorflow.python.autograph.pyct.static_analysis.liveness) is deprecated and will be removed after 2023-09-23.\n",
      "Instructions for updating:\n",
      "Lambda fuctions will be no more assumed to be used in the statement where they are used, or at least in the same block. https://github.com/tensorflow/tensorflow/issues/56089\n",
      "Epoch 1/100\n",
      "16/16 [==============================] - 24s 1s/step - loss: 0.6185 - custom_metric: 1.4211 - val_loss: 0.1034 - val_custom_metric: 0.9055 - lr: 5.0000e-04\n",
      "Epoch 2/100\n",
      "16/16 [==============================] - 16s 1s/step - loss: 0.3245 - custom_metric: 1.2616 - val_loss: 0.0569 - val_custom_metric: 0.6039 - lr: 5.0000e-04\n",
      "Epoch 3/100\n",
      "16/16 [==============================] - 17s 1s/step - loss: 0.1902 - custom_metric: 1.0889 - val_loss: 0.0598 - val_custom_metric: 0.4683 - lr: 5.0000e-04\n",
      "Epoch 4/100\n",
      "16/16 [==============================] - 17s 1s/step - loss: 0.1287 - custom_metric: 0.9639 - val_loss: 0.0615 - val_custom_metric: 0.4331 - lr: 5.0000e-04\n",
      "Epoch 5/100\n",
      "16/16 [==============================] - 16s 1s/step - loss: 0.0962 - custom_metric: 0.8608 - val_loss: 0.0537 - val_custom_metric: 0.3785 - lr: 5.0000e-04\n",
      "Epoch 6/100\n",
      "16/16 [==============================] - 16s 1s/step - loss: 0.0766 - custom_metric: 0.7762 - val_loss: 0.0409 - val_custom_metric: 0.2985 - lr: 5.0000e-04\n",
      "Epoch 7/100\n",
      "16/16 [==============================] - 16s 1s/step - loss: 0.0630 - custom_metric: 0.6817 - val_loss: 0.0321 - val_custom_metric: 0.2379 - lr: 5.0000e-04\n",
      "Epoch 8/100\n",
      "16/16 [==============================] - 16s 1s/step - loss: 0.0546 - custom_metric: 0.6227 - val_loss: 0.0382 - val_custom_metric: 0.2653 - lr: 5.0000e-04\n",
      "Epoch 9/100\n",
      "16/16 [==============================] - 16s 1s/step - loss: 0.0478 - custom_metric: 0.5701 - val_loss: 0.0320 - val_custom_metric: 0.2234 - lr: 5.0000e-04\n",
      "Epoch 10/100\n",
      "16/16 [==============================] - 16s 1s/step - loss: 0.0422 - custom_metric: 0.5187 - val_loss: 0.0241 - val_custom_metric: 0.1736 - lr: 5.0000e-04\n",
      "Epoch 11/100\n",
      "16/16 [==============================] - 16s 1s/step - loss: 0.0389 - custom_metric: 0.4864 - val_loss: 0.0221 - val_custom_metric: 0.1589 - lr: 5.0000e-04\n",
      "Epoch 12/100\n",
      "16/16 [==============================] - 16s 1s/step - loss: 0.0369 - custom_metric: 0.4606 - val_loss: 0.0210 - val_custom_metric: 0.1808 - lr: 5.0000e-04\n",
      "Epoch 13/100\n",
      "16/16 [==============================] - 16s 1s/step - loss: 0.0382 - custom_metric: 0.4586 - val_loss: 0.0272 - val_custom_metric: 0.3991 - lr: 5.0000e-04\n",
      "Epoch 14/100\n",
      "16/16 [==============================] - 16s 1s/step - loss: 0.0344 - custom_metric: 0.4300 - val_loss: 0.0244 - val_custom_metric: 0.3199 - lr: 5.0000e-04\n",
      "Epoch 15/100\n",
      "16/16 [==============================] - 16s 1s/step - loss: 0.0294 - custom_metric: 0.3758 - val_loss: 0.0193 - val_custom_metric: 0.1863 - lr: 5.0000e-04\n",
      "Epoch 16/100\n",
      "16/16 [==============================] - 16s 1s/step - loss: 0.0256 - custom_metric: 0.3339 - val_loss: 0.0162 - val_custom_metric: 0.1350 - lr: 5.0000e-04\n",
      "Epoch 17/100\n",
      "16/16 [==============================] - 16s 1s/step - loss: 0.0249 - custom_metric: 0.3257 - val_loss: 0.0179 - val_custom_metric: 0.1650 - lr: 5.0000e-04\n",
      "Epoch 18/100\n",
      "16/16 [==============================] - 16s 1s/step - loss: 0.0231 - custom_metric: 0.2958 - val_loss: 0.0155 - val_custom_metric: 0.1396 - lr: 5.0000e-04\n",
      "Epoch 19/100\n",
      "16/16 [==============================] - 16s 1s/step - loss: 0.0231 - custom_metric: 0.2984 - val_loss: 0.0154 - val_custom_metric: 0.1449 - lr: 5.0000e-04\n",
      "Epoch 20/100\n",
      "16/16 [==============================] - 16s 1s/step - loss: 0.0218 - custom_metric: 0.2806 - val_loss: 0.0152 - val_custom_metric: 0.1463 - lr: 5.0000e-04\n",
      "Epoch 21/100\n",
      "16/16 [==============================] - ETA: 0s - loss: 0.0203 - custom_metric: 0.2589\n",
      "Epoch 21: ReduceLROnPlateau reducing learning rate to 0.00010000000474974513.\n",
      "16/16 [==============================] - 16s 1s/step - loss: 0.0203 - custom_metric: 0.2589 - val_loss: 0.0163 - val_custom_metric: 0.1640 - lr: 5.0000e-04\n",
      "Epoch 22/100\n",
      "16/16 [==============================] - 16s 1s/step - loss: 0.0184 - custom_metric: 0.2321 - val_loss: 0.0151 - val_custom_metric: 0.1581 - lr: 1.0000e-04\n",
      "Epoch 23/100\n",
      "16/16 [==============================] - 16s 1s/step - loss: 0.0181 - custom_metric: 0.2275 - val_loss: 0.0150 - val_custom_metric: 0.1572 - lr: 1.0000e-04\n",
      "Epoch 24/100\n",
      "16/16 [==============================] - 16s 1s/step - loss: 0.0177 - custom_metric: 0.2205 - val_loss: 0.0151 - val_custom_metric: 0.1629 - lr: 1.0000e-04\n",
      "Epoch 25/100\n",
      "16/16 [==============================] - 16s 1s/step - loss: 0.0176 - custom_metric: 0.2194 - val_loss: 0.0152 - val_custom_metric: 0.1661 - lr: 1.0000e-04\n",
      "Epoch 26/100\n",
      "16/16 [==============================] - ETA: 0s - loss: 0.0175 - custom_metric: 0.2181\n",
      "Epoch 26: ReduceLROnPlateau reducing learning rate to 2.0000000949949027e-05.\n",
      "16/16 [==============================] - 16s 1s/step - loss: 0.0175 - custom_metric: 0.2181 - val_loss: 0.0153 - val_custom_metric: 0.1686 - lr: 1.0000e-04\n",
      "Epoch 27/100\n",
      "16/16 [==============================] - 16s 1s/step - loss: 0.0169 - custom_metric: 0.2074 - val_loss: 0.0150 - val_custom_metric: 0.1661 - lr: 2.0000e-05\n",
      "Epoch 28/100\n",
      "16/16 [==============================] - 16s 1s/step - loss: 0.0168 - custom_metric: 0.2067 - val_loss: 0.0149 - val_custom_metric: 0.1664 - lr: 2.0000e-05\n",
      "Epoch 29/100\n",
      "16/16 [==============================] - 16s 1s/step - loss: 0.0168 - custom_metric: 0.2058 - val_loss: 0.0151 - val_custom_metric: 0.1679 - lr: 2.0000e-05\n",
      "Epoch 30/100\n",
      "16/16 [==============================] - 16s 1s/step - loss: 0.0167 - custom_metric: 0.2048 - val_loss: 0.0151 - val_custom_metric: 0.1694 - lr: 2.0000e-05\n",
      "Epoch 31/100\n",
      "16/16 [==============================] - ETA: 0s - loss: 0.0167 - custom_metric: 0.2044\n",
      "Epoch 31: ReduceLROnPlateau reducing learning rate to 4.000000262749381e-06.\n",
      "16/16 [==============================] - 16s 1s/step - loss: 0.0167 - custom_metric: 0.2044 - val_loss: 0.0152 - val_custom_metric: 0.1712 - lr: 2.0000e-05\n",
      "Epoch 32/100\n",
      "16/16 [==============================] - 16s 1s/step - loss: 0.0166 - custom_metric: 0.2013 - val_loss: 0.0152 - val_custom_metric: 0.1782 - lr: 4.0000e-06\n",
      "Epoch 33/100\n",
      "16/16 [==============================] - 16s 1s/step - loss: 0.0166 - custom_metric: 0.2030 - val_loss: 0.0153 - val_custom_metric: 0.1772 - lr: 4.0000e-06\n"
     ]
    },
    {
     "data": {
      "image/png": "[encoded data removed]",
      "text/plain": [
       "<Figure size 1500x800 with 1 Axes>"
      ]
     },
     "metadata": {},
     "output_type": "display_data"
    },
    {
     "name": "stderr",
     "output_type": "stream",
     "text": [
      "WARNING:absl:Found untraced functions such as conv2d_layer_call_fn, conv2d_layer_call_and_return_conditional_losses, _jit_compiled_convolution_op, activation_layer_call_fn, activation_layer_call_and_return_conditional_losses while saving (showing 5 of 63). These functions will not be directly callable after loading.\n"
     ]
    },
    {
     "name": "stdout",
     "output_type": "stream",
     "text": [
      "INFO:tensorflow:Assets written to: /tmp/tmpli66fn9q/assets\n"
     ]
    },
    {
     "name": "stderr",
     "output_type": "stream",
     "text": [
      "INFO:tensorflow:Assets written to: /tmp/tmpli66fn9q/assets\n"
     ]
    },
    {
     "name": "stdout",
     "output_type": "stream",
     "text": [
      "Model was saved at location: /media/master/wext/msc_studies/second_semester/microcontrollers/project/stm32/code/models/pruned_model.tflite\n",
      "HDF5 Model size: 648 KB\n",
      "TFLite Model size: 1160 KB\n",
      "\n",
      "Reduction in file size by a factor of 0.559035\n"
     ]
    },
    {
     "name": "stderr",
     "output_type": "stream",
     "text": [
      "INFO: Created TensorFlow Lite XNNPACK delegate for CPU.\n"
     ]
    },
    {
     "name": "stdout",
     "output_type": "stream",
     "text": [
      "Evaluated on 100 images.\n",
      "Evaluated on 200 images.\n",
      "Evaluated on 300 images.\n",
      "Evaluated on 400 images.\n",
      "Evaluated on 500 images.\n",
      "Evaluated on 600 images.\n",
      "Evaluated on 700 images.\n",
      "Evaluated on 800 images.\n",
      "Evaluated on 900 images.\n",
      "Evaluated on 1000 images.\n",
      "Evaluated on 1100 images.\n",
      "Evaluated on 1200 images.\n",
      "Evaluated on 1300 images.\n",
      "Evaluated on 1400 images.\n",
      "Evaluated on 1500 images.\n",
      "Evaluated on 1600 images.\n",
      "Evaluated on 1700 images.\n",
      "Evaluated on 1800 images.\n",
      "Evaluated on 1900 images.\n",
      "pruned_model model metrics:\n",
      "mse: 0.001\n",
      "mae: 0.015\n",
      "eval_loss: 0.015\n",
      "eval_metric: 0.166\n",
      "Saved metrics to /media/master/wext/msc_studies/second_semester/microcontrollers/project/stm32/code/models/metrics.json\n",
      "WARNING:tensorflow:Compiled the loaded model, but the compiled metrics have yet to be built. `model.compile_metrics` will be empty until you train or evaluate the model.\n"
     ]
    },
    {
     "name": "stderr",
     "output_type": "stream",
     "text": [
      "WARNING:tensorflow:Compiled the loaded model, but the compiled metrics have yet to be built. `model.compile_metrics` will be empty until you train or evaluate the model.\n"
     ]
    },
    {
     "name": "stdout",
     "output_type": "stream",
     "text": [
      "Saved pruned Keras model to: /media/master/wext/msc_studies/second_semester/microcontrollers/project/stm32/code/models/pruned_model.h5\n"
     ]
    },
    {
     "name": "stderr",
     "output_type": "stream",
     "text": [
      "WARNING:absl:Found untraced functions such as _jit_compiled_convolution_op, _jit_compiled_convolution_op, _jit_compiled_convolution_op, _jit_compiled_convolution_op, _jit_compiled_convolution_op while saving (showing 5 of 17). These functions will not be directly callable after loading.\n"
     ]
    },
    {
     "name": "stdout",
     "output_type": "stream",
     "text": [
      "INFO:tensorflow:Assets written to: /tmp/tmpby3jd86l/assets\n"
     ]
    },
    {
     "name": "stderr",
     "output_type": "stream",
     "text": [
      "INFO:tensorflow:Assets written to: /tmp/tmpby3jd86l/assets\n"
     ]
    },
    {
     "name": "stdout",
     "output_type": "stream",
     "text": [
      "Model was saved at location: /media/master/wext/msc_studies/second_semester/microcontrollers/project/stm32/code/models/pruned_model.tflite\n",
      "HDF5 Model size: 1270 KB\n",
      "TFLite Model size: 1135 KB\n",
      "\n",
      "Reduction in file size by a factor of 1.118424\n"
     ]
    },
    {
     "data": {
      "text/plain": [
       "<Figure size 1500x800 with 0 Axes>"
      ]
     },
     "metadata": {},
     "output_type": "display_data"
    }
   ],
   "source": [
    "model_name = model_names[3]\n",
    "pruned_model = get_model(cfg.img_size, cfg.num_classes, in_channels=3, use_qat=False, use_pruning=True,\n",
    "                         use_pruning_struct=True)\n",
    "fit_eval(pruned_model, model_name, do_save_model=False)\n",
    "pruned_model_for_export = save_pruned_model(pruned_model, f\"{cfg.save_model_dir}/{model_name}.h5\")\n",
    "pruned_tflite_model = converter.keras_to_tflite(pruned_model_for_export, model_name)\n",
    "write_model_h(cfiles[model_name], pruned_tflite_model)"
   ]
  },
  {
   "cell_type": "code",
   "execution_count": 13,
   "metadata": {},
   "outputs": [
    {
     "name": "stdout",
     "output_type": "stream",
     "text": [
      "Epoch 1/100\n",
      "16/16 [==============================] - 22s 1s/step - loss: 0.7992 - custom_metric: 1.2815 - val_loss: 0.1444 - val_custom_metric: 0.8684 - lr: 5.0000e-04\n",
      "Epoch 2/100\n",
      "16/16 [==============================] - 17s 1s/step - loss: 0.4158 - custom_metric: 1.3070 - val_loss: 0.1559 - val_custom_metric: 0.8073 - lr: 5.0000e-04\n",
      "Epoch 3/100\n",
      "16/16 [==============================] - 17s 1s/step - loss: 0.2310 - custom_metric: 1.1447 - val_loss: 0.2019 - val_custom_metric: 0.7973 - lr: 5.0000e-04\n",
      "Epoch 4/100\n",
      "16/16 [==============================] - 16s 1s/step - loss: 0.1524 - custom_metric: 1.0220 - val_loss: 0.1591 - val_custom_metric: 0.7373 - lr: 5.0000e-04\n",
      "Epoch 5/100\n",
      "16/16 [==============================] - 16s 1s/step - loss: 0.1188 - custom_metric: 0.9376 - val_loss: 0.0903 - val_custom_metric: 0.6173 - lr: 5.0000e-04\n",
      "Epoch 6/100\n",
      "16/16 [==============================] - 16s 1s/step - loss: 0.0966 - custom_metric: 0.8693 - val_loss: 0.0892 - val_custom_metric: 0.5959 - lr: 5.0000e-04\n",
      "Epoch 7/100\n",
      "16/16 [==============================] - 16s 1s/step - loss: 0.0804 - custom_metric: 0.7884 - val_loss: 0.0570 - val_custom_metric: 0.4947 - lr: 5.0000e-04\n",
      "Epoch 8/100\n",
      "16/16 [==============================] - 16s 1s/step - loss: 0.0702 - custom_metric: 0.7352 - val_loss: 0.0455 - val_custom_metric: 0.4346 - lr: 5.0000e-04\n",
      "Epoch 9/100\n",
      "16/16 [==============================] - 17s 1s/step - loss: 0.0636 - custom_metric: 0.6889 - val_loss: 0.0345 - val_custom_metric: 0.3667 - lr: 5.0000e-04\n",
      "Epoch 10/100\n",
      "16/16 [==============================] - 17s 1s/step - loss: 0.0584 - custom_metric: 0.6706 - val_loss: 0.0606 - val_custom_metric: 0.4340 - lr: 5.0000e-04\n",
      "Epoch 11/100\n",
      "16/16 [==============================] - 16s 1s/step - loss: 0.0569 - custom_metric: 0.6458 - val_loss: 0.0451 - val_custom_metric: 0.3645 - lr: 5.0000e-04\n",
      "Epoch 12/100\n",
      "16/16 [==============================] - 17s 1s/step - loss: 0.0548 - custom_metric: 0.6331 - val_loss: 0.0308 - val_custom_metric: 0.3049 - lr: 5.0000e-04\n",
      "Epoch 13/100\n",
      "16/16 [==============================] - 18s 1s/step - loss: 0.0519 - custom_metric: 0.5887 - val_loss: 0.0910 - val_custom_metric: 0.5241 - lr: 5.0000e-04\n",
      "Epoch 14/100\n",
      "16/16 [==============================] - 16s 1s/step - loss: 0.0666 - custom_metric: 0.6983 - val_loss: 0.0383 - val_custom_metric: 0.3112 - lr: 5.0000e-04\n",
      "Epoch 15/100\n",
      "16/16 [==============================] - ETA: 0s - loss: 0.0643 - custom_metric: 0.7368\n",
      "Epoch 15: ReduceLROnPlateau reducing learning rate to 0.00010000000474974513.\n",
      "16/16 [==============================] - 16s 1s/step - loss: 0.0643 - custom_metric: 0.7368 - val_loss: 0.0473 - val_custom_metric: 0.3548 - lr: 5.0000e-04\n",
      "Epoch 16/100\n",
      "16/16 [==============================] - 16s 1s/step - loss: 0.0387 - custom_metric: 0.4640 - val_loss: 0.0272 - val_custom_metric: 0.2609 - lr: 1.0000e-04\n",
      "Epoch 17/100\n",
      "16/16 [==============================] - 16s 1s/step - loss: 0.0339 - custom_metric: 0.4320 - val_loss: 0.0250 - val_custom_metric: 0.2432 - lr: 1.0000e-04\n",
      "Epoch 18/100\n",
      "16/16 [==============================] - 16s 1s/step - loss: 0.0319 - custom_metric: 0.4072 - val_loss: 0.0256 - val_custom_metric: 0.2488 - lr: 1.0000e-04\n",
      "Epoch 19/100\n",
      "16/16 [==============================] - 16s 1s/step - loss: 0.0317 - custom_metric: 0.4051 - val_loss: 0.0255 - val_custom_metric: 0.2529 - lr: 1.0000e-04\n",
      "Epoch 20/100\n",
      "16/16 [==============================] - 16s 1s/step - loss: 0.0311 - custom_metric: 0.3990 - val_loss: 0.0254 - val_custom_metric: 0.2578 - lr: 1.0000e-04\n",
      "Epoch 21/100\n",
      "16/16 [==============================] - ETA: 0s - loss: 0.0307 - custom_metric: 0.3945\n",
      "Epoch 21: ReduceLROnPlateau reducing learning rate to 2.0000000949949027e-05.\n",
      "16/16 [==============================] - 16s 1s/step - loss: 0.0307 - custom_metric: 0.3945 - val_loss: 0.0256 - val_custom_metric: 0.2653 - lr: 1.0000e-04\n",
      "Epoch 22/100\n",
      "16/16 [==============================] - 16s 1s/step - loss: 0.0301 - custom_metric: 0.3899 - val_loss: 0.0233 - val_custom_metric: 0.2528 - lr: 2.0000e-05\n",
      "Epoch 23/100\n",
      "16/16 [==============================] - 16s 1s/step - loss: 0.0300 - custom_metric: 0.3862 - val_loss: 0.0233 - val_custom_metric: 0.2587 - lr: 2.0000e-05\n",
      "Epoch 24/100\n",
      "16/16 [==============================] - 16s 1s/step - loss: 0.0299 - custom_metric: 0.3848 - val_loss: 0.0234 - val_custom_metric: 0.2644 - lr: 2.0000e-05\n",
      "Epoch 25/100\n",
      "16/16 [==============================] - 16s 1s/step - loss: 0.0298 - custom_metric: 0.3838 - val_loss: 0.0235 - val_custom_metric: 0.2694 - lr: 2.0000e-05\n",
      "Epoch 26/100\n",
      "16/16 [==============================] - ETA: 0s - loss: 0.0297 - custom_metric: 0.3829\n",
      "Epoch 26: ReduceLROnPlateau reducing learning rate to 4.000000262749381e-06.\n",
      "16/16 [==============================] - 16s 1s/step - loss: 0.0297 - custom_metric: 0.3829 - val_loss: 0.0236 - val_custom_metric: 0.2743 - lr: 2.0000e-05\n",
      "Epoch 27/100\n",
      "16/16 [==============================] - 16s 1s/step - loss: 0.0295 - custom_metric: 0.3792 - val_loss: 0.0237 - val_custom_metric: 0.2794 - lr: 4.0000e-06\n",
      "Epoch 28/100\n",
      "16/16 [==============================] - 16s 1s/step - loss: 0.0295 - custom_metric: 0.3801 - val_loss: 0.0239 - val_custom_metric: 0.2860 - lr: 4.0000e-06\n"
     ]
    },
    {
     "data": {
      "image/png": "[encoded data removed]",
      "text/plain": [
       "<Figure size 1500x800 with 1 Axes>"
      ]
     },
     "metadata": {},
     "output_type": "display_data"
    },
    {
     "name": "stdout",
     "output_type": "stream",
     "text": [
      "pruned_model_unstructured model metrics:\n",
      "eval_loss: 0.023\n",
      "eval_metric: 0.259\n",
      "Saved metrics to /media/master/wext/msc_studies/second_semester/microcontrollers/project/stm32/code/models/metrics.json\n",
      "WARNING:tensorflow:Compiled the loaded model, but the compiled metrics have yet to be built. `model.compile_metrics` will be empty until you train or evaluate the model.\n"
     ]
    },
    {
     "name": "stderr",
     "output_type": "stream",
     "text": [
      "WARNING:tensorflow:Compiled the loaded model, but the compiled metrics have yet to be built. `model.compile_metrics` will be empty until you train or evaluate the model.\n"
     ]
    },
    {
     "name": "stdout",
     "output_type": "stream",
     "text": [
      "Saved pruned Keras model to: /media/master/wext/msc_studies/second_semester/microcontrollers/project/stm32/code/models/pruned_model_unstructured.h5\n"
     ]
    },
    {
     "name": "stderr",
     "output_type": "stream",
     "text": [
      "WARNING:absl:Found untraced functions such as _jit_compiled_convolution_op, _jit_compiled_convolution_op, _jit_compiled_convolution_op, _jit_compiled_convolution_op, _jit_compiled_convolution_op while saving (showing 5 of 17). These functions will not be directly callable after loading.\n"
     ]
    },
    {
     "name": "stdout",
     "output_type": "stream",
     "text": [
      "INFO:tensorflow:Assets written to: /tmp/tmpmdbnr47y/assets\n"
     ]
    },
    {
     "name": "stderr",
     "output_type": "stream",
     "text": [
      "INFO:tensorflow:Assets written to: /tmp/tmpmdbnr47y/assets\n"
     ]
    },
    {
     "name": "stdout",
     "output_type": "stream",
     "text": [
      "Model was saved at location: /media/master/wext/msc_studies/second_semester/microcontrollers/project/stm32/code/models/pruned_model_unstructured.tflite\n",
      "HDF5 Model size: 1270 KB\n",
      "TFLite Model size: 1135 KB\n",
      "\n",
      "Reduction in file size by a factor of 1.118424\n",
      "Evaluated on 100 images.\n",
      "Evaluated on 200 images.\n",
      "Evaluated on 300 images.\n",
      "Evaluated on 400 images.\n",
      "Evaluated on 500 images.\n",
      "Evaluated on 600 images.\n",
      "Evaluated on 700 images.\n",
      "Evaluated on 800 images.\n",
      "Evaluated on 900 images.\n",
      "Evaluated on 1000 images.\n",
      "Evaluated on 1100 images.\n",
      "Evaluated on 1200 images.\n",
      "Evaluated on 1300 images.\n",
      "Evaluated on 1400 images.\n",
      "Evaluated on 1500 images.\n",
      "Evaluated on 1600 images.\n",
      "Evaluated on 1700 images.\n",
      "Evaluated on 1800 images.\n",
      "Evaluated on 1900 images.\n",
      "pruned_model_unstructured model metrics:\n",
      "mse: 0.001\n",
      "mae: 0.023\n",
      "eval_loss: 0.023\n",
      "eval_metric: 0.259\n",
      "Saved metrics to /media/master/wext/msc_studies/second_semester/microcontrollers/project/stm32/code/models/metrics.json\n"
     ]
    },
    {
     "data": {
      "text/plain": [
       "<Figure size 1500x800 with 0 Axes>"
      ]
     },
     "metadata": {},
     "output_type": "display_data"
    }
   ],
   "source": [
    "model_name = model_names[4]\n",
    "pruned_model_unstruct = get_model(\n",
    "    cfg.img_size,\n",
    "    cfg.num_classes,\n",
    "    in_channels=3,\n",
    "    use_qat=False,\n",
    "    use_pruning=True,\n",
    "    use_pruning_struct=False,\n",
    "    use_dynamic_sparsity=False,\n",
    ")\n",
    "fit_eval(pruned_model_unstruct, model_name, do_save_model=False)\n",
    "pruned_model_for_export = save_pruned_model(\n",
    "    pruned_model_unstruct, f\"{cfg.save_model_dir}/{model_name}.h5\"\n",
    ")\n",
    "pruned_tflite_model = converter.keras_to_tflite(pruned_model_for_export, model_name)\n",
    "eval_model(\n",
    "        model=pruned_model_unstruct,\n",
    "        test_ds=ds_val,\n",
    "        tflite_path=f\"{cfg.save_model_dir}/{model_name}.tflite\",\n",
    "        model_name=model_name,\n",
    "        metrics_file_path=f\"{cfg.save_model_dir}/metrics.json\",\n",
    "    )\n",
    "write_model_h(cfiles[model_name], pruned_tflite_model)"
   ]
  },
  {
   "cell_type": "code",
   "execution_count": 14,
   "metadata": {},
   "outputs": [
    {
     "name": "stdout",
     "output_type": "stream",
     "text": [
      "Epoch 1/100\n",
      "16/16 [==============================] - 21s 1s/step - loss: 0.6807 - custom_metric: 1.4231 - val_loss: 0.1005 - val_custom_metric: 0.9847 - lr: 5.0000e-04\n",
      "Epoch 2/100\n",
      "16/16 [==============================] - 16s 1s/step - loss: 0.4033 - custom_metric: 1.3246 - val_loss: 0.1497 - val_custom_metric: 1.1799 - lr: 5.0000e-04\n",
      "Epoch 3/100\n",
      "16/16 [==============================] - 16s 1s/step - loss: 0.2926 - custom_metric: 1.1933 - val_loss: 0.1047 - val_custom_metric: 1.2125 - lr: 5.0000e-04\n",
      "Epoch 4/100\n",
      "16/16 [==============================] - 16s 1s/step - loss: 0.2135 - custom_metric: 1.1227 - val_loss: 0.0936 - val_custom_metric: 1.2183 - lr: 5.0000e-04\n",
      "Epoch 5/100\n",
      "16/16 [==============================] - 16s 1s/step - loss: 0.1668 - custom_metric: 1.0609 - val_loss: 0.1096 - val_custom_metric: 1.2523 - lr: 5.0000e-04\n",
      "Epoch 6/100\n",
      "16/16 [==============================] - 16s 1s/step - loss: 0.1341 - custom_metric: 0.9954 - val_loss: 0.0827 - val_custom_metric: 1.2221 - lr: 5.0000e-04\n",
      "Epoch 7/100\n",
      "16/16 [==============================] - 16s 1s/step - loss: 0.1162 - custom_metric: 0.9495 - val_loss: 0.0773 - val_custom_metric: 1.2098 - lr: 5.0000e-04\n",
      "Epoch 8/100\n",
      "16/16 [==============================] - 16s 1s/step - loss: 0.1106 - custom_metric: 0.9363 - val_loss: 0.0933 - val_custom_metric: 1.3081 - lr: 5.0000e-04\n",
      "Epoch 9/100\n",
      "16/16 [==============================] - 16s 1s/step - loss: 0.0972 - custom_metric: 0.8864 - val_loss: 0.0788 - val_custom_metric: 1.2928 - lr: 5.0000e-04\n",
      "Epoch 10/100\n",
      "16/16 [==============================] - 16s 1s/step - loss: 0.0863 - custom_metric: 0.8502 - val_loss: 0.0567 - val_custom_metric: 1.0405 - lr: 5.0000e-04\n",
      "Epoch 11/100\n",
      "16/16 [==============================] - 16s 1s/step - loss: 0.0924 - custom_metric: 0.9065 - val_loss: 0.0604 - val_custom_metric: 1.1516 - lr: 5.0000e-04\n",
      "Epoch 12/100\n",
      "16/16 [==============================] - 16s 1s/step - loss: 0.0794 - custom_metric: 0.8429 - val_loss: 0.0771 - val_custom_metric: 1.3418 - lr: 5.0000e-04\n",
      "Epoch 13/100\n",
      "16/16 [==============================] - 16s 1s/step - loss: 0.0618 - custom_metric: 0.7074 - val_loss: 0.0640 - val_custom_metric: 1.2509 - lr: 5.0000e-04\n",
      "Epoch 14/100\n",
      "16/16 [==============================] - 16s 1s/step - loss: 0.0589 - custom_metric: 0.6714 - val_loss: 0.0771 - val_custom_metric: 1.3757 - lr: 5.0000e-04\n",
      "Epoch 15/100\n",
      "16/16 [==============================] - 16s 1s/step - loss: 0.0559 - custom_metric: 0.6496 - val_loss: 0.0824 - val_custom_metric: 1.3635 - lr: 5.0000e-04\n"
     ]
    },
    {
     "data": {
      "image/png": "[encoded data removed]",
      "text/plain": [
       "<Figure size 1500x800 with 1 Axes>"
      ]
     },
     "metadata": {},
     "output_type": "display_data"
    },
    {
     "name": "stdout",
     "output_type": "stream",
     "text": [
      "pruned_model_unstructured_dynamic model metrics:\n",
      "eval_loss: 0.057\n",
      "eval_metric: 1.040\n",
      "Saved metrics to /media/master/wext/msc_studies/second_semester/microcontrollers/project/stm32/code/models/metrics.json\n",
      "WARNING:tensorflow:Compiled the loaded model, but the compiled metrics have yet to be built. `model.compile_metrics` will be empty until you train or evaluate the model.\n"
     ]
    },
    {
     "name": "stderr",
     "output_type": "stream",
     "text": [
      "WARNING:tensorflow:Compiled the loaded model, but the compiled metrics have yet to be built. `model.compile_metrics` will be empty until you train or evaluate the model.\n"
     ]
    },
    {
     "name": "stdout",
     "output_type": "stream",
     "text": [
      "Saved pruned Keras model to: /media/master/wext/msc_studies/second_semester/microcontrollers/project/stm32/code/models/pruned_model_unstructured_dynamic.h5\n"
     ]
    },
    {
     "name": "stderr",
     "output_type": "stream",
     "text": [
      "WARNING:absl:Found untraced functions such as _jit_compiled_convolution_op, _jit_compiled_convolution_op, _jit_compiled_convolution_op, _jit_compiled_convolution_op, _jit_compiled_convolution_op while saving (showing 5 of 17). These functions will not be directly callable after loading.\n"
     ]
    },
    {
     "name": "stdout",
     "output_type": "stream",
     "text": [
      "INFO:tensorflow:Assets written to: /tmp/tmp7dgvgask/assets\n"
     ]
    },
    {
     "name": "stderr",
     "output_type": "stream",
     "text": [
      "INFO:tensorflow:Assets written to: /tmp/tmp7dgvgask/assets\n"
     ]
    },
    {
     "name": "stdout",
     "output_type": "stream",
     "text": [
      "Model was saved at location: /media/master/wext/msc_studies/second_semester/microcontrollers/project/stm32/code/models/pruned_model_unstructured_dynamic.tflite\n",
      "HDF5 Model size: 1270 KB\n",
      "TFLite Model size: 1135 KB\n",
      "\n",
      "Reduction in file size by a factor of 1.118424\n",
      "Evaluated on 100 images.\n",
      "Evaluated on 200 images.\n",
      "Evaluated on 300 images.\n",
      "Evaluated on 400 images.\n",
      "Evaluated on 500 images.\n",
      "Evaluated on 600 images.\n",
      "Evaluated on 700 images.\n",
      "Evaluated on 800 images.\n",
      "Evaluated on 900 images.\n",
      "Evaluated on 1000 images.\n",
      "Evaluated on 1100 images.\n",
      "Evaluated on 1200 images.\n",
      "Evaluated on 1300 images.\n",
      "Evaluated on 1400 images.\n",
      "Evaluated on 1500 images.\n",
      "Evaluated on 1600 images.\n",
      "Evaluated on 1700 images.\n",
      "Evaluated on 1800 images.\n",
      "Evaluated on 1900 images.\n",
      "pruned_model_unstructured_dynamic model metrics:\n",
      "mse: 0.006\n",
      "mae: 0.056\n",
      "eval_loss: 0.057\n",
      "eval_metric: 1.040\n",
      "Saved metrics to /media/master/wext/msc_studies/second_semester/microcontrollers/project/stm32/code/models/metrics.json\n"
     ]
    },
    {
     "data": {
      "text/plain": [
       "<Figure size 1500x800 with 0 Axes>"
      ]
     },
     "metadata": {},
     "output_type": "display_data"
    }
   ],
   "source": [
    "model_name = model_names[5]\n",
    "pruned_model_unstruct_dynamic = get_model(\n",
    "    cfg.img_size,\n",
    "    cfg.num_classes,\n",
    "    in_channels=3,\n",
    "    use_qat=False,\n",
    "    use_pruning=True,\n",
    "    use_pruning_struct=False,\n",
    "    use_dynamic_sparsity=True,\n",
    ")\n",
    "fit_eval(pruned_model_unstruct_dynamic, model_name, do_save_model=False)\n",
    "pruned_model_unstructured_for_export = save_pruned_model(\n",
    "    pruned_model_unstruct_dynamic, f\"{cfg.save_model_dir}/{model_name}.h5\"\n",
    ")\n",
    "pruned_tflite_model = converter.keras_to_tflite(pruned_model_unstructured_for_export, model_name)\n",
    "eval_model(\n",
    "        model=pruned_model_unstruct_dynamic,\n",
    "        test_ds=ds_val,\n",
    "        tflite_path=f\"{cfg.save_model_dir}/{model_name}.tflite\",\n",
    "        model_name=model_name,\n",
    "        metrics_file_path=f\"{cfg.save_model_dir}/metrics.json\",\n",
    "    )\n",
    "write_model_h(cfiles[model_name], pruned_tflite_model)"
   ]
  },
  {
   "cell_type": "code",
   "execution_count": 15,
   "metadata": {},
   "outputs": [
    {
     "name": "stdout",
     "output_type": "stream",
     "text": [
      "Epoch 1/100\n",
      "16/16 [==============================] - 19s 1s/step - loss: 0.2172 - custom_metric: 1.0108 - val_loss: 0.0707 - val_custom_metric: 1.0593 - lr: 5.0000e-04\n",
      "Epoch 2/100\n",
      "16/16 [==============================] - 16s 1s/step - loss: 0.1164 - custom_metric: 0.9590 - val_loss: 0.0827 - val_custom_metric: 1.2224 - lr: 5.0000e-04\n",
      "Epoch 3/100\n",
      "16/16 [==============================] - 16s 1s/step - loss: 0.0915 - custom_metric: 0.8874 - val_loss: 0.0772 - val_custom_metric: 1.1900 - lr: 5.0000e-04\n",
      "Epoch 4/100\n",
      "16/16 [==============================] - 16s 1s/step - loss: 0.0798 - custom_metric: 0.8384 - val_loss: 0.0807 - val_custom_metric: 1.2220 - lr: 5.0000e-04\n",
      "Epoch 5/100\n",
      "16/16 [==============================] - 17s 1s/step - loss: 0.0735 - custom_metric: 0.8094 - val_loss: 0.0891 - val_custom_metric: 1.2416 - lr: 5.0000e-04\n",
      "Epoch 6/100\n",
      "16/16 [==============================] - 16s 1s/step - loss: 0.0684 - custom_metric: 0.7848 - val_loss: 0.0903 - val_custom_metric: 1.2415 - lr: 5.0000e-04\n"
     ]
    },
    {
     "data": {
      "image/png": "[encoded data removed]",
      "text/plain": [
       "<Figure size 1500x800 with 1 Axes>"
      ]
     },
     "metadata": {},
     "output_type": "display_data"
    },
    {
     "name": "stdout",
     "output_type": "stream",
     "text": [
      "pruned_qat_model model metrics:\n",
      "eval_loss: 0.071\n",
      "eval_metric: 1.059\n",
      "Saved metrics to /media/master/wext/msc_studies/second_semester/microcontrollers/project/stm32/code/models/metrics.json\n",
      "WARNING:tensorflow:Compiled the loaded model, but the compiled metrics have yet to be built. `model.compile_metrics` will be empty until you train or evaluate the model.\n"
     ]
    },
    {
     "name": "stderr",
     "output_type": "stream",
     "text": [
      "WARNING:tensorflow:Compiled the loaded model, but the compiled metrics have yet to be built. `model.compile_metrics` will be empty until you train or evaluate the model.\n"
     ]
    },
    {
     "name": "stdout",
     "output_type": "stream",
     "text": [
      "Saved pruned Keras model to: /media/master/wext/msc_studies/second_semester/microcontrollers/project/stm32/code/models/pruned_qat_model.h5\n"
     ]
    },
    {
     "name": "stderr",
     "output_type": "stream",
     "text": [
      "WARNING:absl:Found untraced functions such as conv2d_layer_call_fn, conv2d_layer_call_and_return_conditional_losses, _jit_compiled_convolution_op, activation_layer_call_fn, activation_layer_call_and_return_conditional_losses while saving (showing 5 of 83). These functions will not be directly callable after loading.\n"
     ]
    },
    {
     "name": "stdout",
     "output_type": "stream",
     "text": [
      "Model was saved at location: /media/master/wext/msc_studies/second_semester/microcontrollers/project/stm32/code/models/pruned_qat_model.tflite\n",
      "HDF5 Model size: 1430 KB\n",
      "TFLite Model size: 2315 KB\n",
      "\n",
      "Reduction in file size by a factor of 0.617631\n",
      "Evaluated on 100 images.\n",
      "Evaluated on 200 images.\n",
      "Evaluated on 300 images.\n",
      "Evaluated on 400 images.\n",
      "Evaluated on 500 images.\n",
      "Evaluated on 600 images.\n",
      "Evaluated on 700 images.\n",
      "Evaluated on 800 images.\n",
      "Evaluated on 900 images.\n",
      "Evaluated on 1000 images.\n",
      "Evaluated on 1100 images.\n",
      "Evaluated on 1200 images.\n",
      "Evaluated on 1300 images.\n",
      "Evaluated on 1400 images.\n",
      "Evaluated on 1500 images.\n",
      "Evaluated on 1600 images.\n",
      "Evaluated on 1700 images.\n",
      "Evaluated on 1800 images.\n",
      "Evaluated on 1900 images.\n",
      "pruned_qat_model model metrics:\n",
      "mse: 0.008\n",
      "mae: 0.071\n",
      "eval_loss: 0.071\n",
      "eval_metric: 1.059\n",
      "Saved metrics to /media/master/wext/msc_studies/second_semester/microcontrollers/project/stm32/code/models/metrics.json\n"
     ]
    },
    {
     "data": {
      "text/plain": [
       "<Figure size 1500x800 with 0 Axes>"
      ]
     },
     "metadata": {},
     "output_type": "display_data"
    }
   ],
   "source": [
    "model_name = model_names[6]\n",
    "pruned_qat_model = get_model(\n",
    "    cfg.img_size,\n",
    "    cfg.num_classes,\n",
    "    in_channels=3,\n",
    "    use_qat=True,\n",
    "    use_pruning=True,\n",
    "    use_pruning_struct=False,\n",
    "    use_dynamic_sparsity=False,\n",
    "    pruned_model_unstructured_for_export=pruned_model_unstructured_for_export\n",
    ")\n",
    "fit_eval(pruned_qat_model, model_name, do_save_model=False)\n",
    "pruned_model_for_export = save_pruned_model(\n",
    "    pruned_qat_model, f\"{cfg.save_model_dir}/{model_name}.h5\"\n",
    ")\n",
    "pruned_tflite_model = converter.keras_to_tflite(pruned_model_for_export, model_name)\n",
    "eval_model(\n",
    "        model=pruned_qat_model,\n",
    "        test_ds=ds_val,\n",
    "        tflite_path=f\"{cfg.save_model_dir}/{model_name}.tflite\",\n",
    "        model_name=model_name,\n",
    "        metrics_file_path=f\"{cfg.save_model_dir}/metrics.json\",\n",
    "    )\n",
    "write_model_h(cfiles[model_name], pruned_tflite_model)"
   ]
  },
  {
   "cell_type": "code",
   "execution_count": null,
   "metadata": {},
   "outputs": [],
   "source": []
  }
 ],
 "metadata": {
  "kernelspec": {
   "display_name": "sc",
   "language": "python",
   "name": "python3"
  },
  "language_info": {
   "codemirror_mode": {
    "name": "ipython",
    "version": 3
   },
   "file_extension": ".py",
   "mimetype": "text/x-python",
   "name": "python",
   "nbconvert_exporter": "python",
   "pygments_lexer": "ipython3",
   "version": "3.9.16"
  },
  "orig_nbformat": 4
 },
 "nbformat": 4,
 "nbformat_minor": 2
}
